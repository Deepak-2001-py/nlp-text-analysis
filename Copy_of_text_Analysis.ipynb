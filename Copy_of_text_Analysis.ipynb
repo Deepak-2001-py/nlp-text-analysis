{
  "nbformat": 4,
  "nbformat_minor": 0,
  "metadata": {
    "colab": {
      "provenance": []
    },
    "kernelspec": {
      "name": "python3",
      "display_name": "Python 3"
    },
    "language_info": {
      "name": "python"
    }
  },
  "cells": [
    {
      "cell_type": "code",
      "execution_count": null,
      "metadata": {
        "id": "nTtYC7JePCIc"
      },
      "outputs": [],
      "source": [
        "import numpy as np\n",
        "import pandas as pd"
      ]
    },
    {
      "cell_type": "code",
      "source": [
        "df=pd.read_csv('/content/IMDB Dataset 100.csv')\n",
        "df=df.drop('Unnamed: 0',axis=1)\n",
        "df"
      ],
      "metadata": {
        "colab": {
          "base_uri": "https://localhost:8080/",
          "height": 815
        },
        "id": "HxxhnsXxRPjN",
        "outputId": "164131b2-a740-4609-f9c8-e388f40fffed"
      },
      "execution_count": null,
      "outputs": [
        {
          "output_type": "execute_result",
          "data": {
            "text/plain": [
              "                                               review sentiment\n",
              "0   One of the other reviewers has mentioned that ...  positive\n",
              "1   A wonderful little production. <br /><br />The...  positive\n",
              "2   I thought this was a wonderful way to spend ti...  positive\n",
              "3   Basically there's a family where a little boy ...  negative\n",
              "4   Petter Mattei's \"Love in the Time of Money\" is...  positive\n",
              "..                                                ...       ...\n",
              "95  Daniel Day-Lewis is the most versatile actor a...  positive\n",
              "96  My guess would be this was originally going to...  negative\n",
              "97  Well, I like to watch bad horror B-Movies, cau...  negative\n",
              "98  This IS the worst movie I have ever seen, as w...  negative\n",
              "99  I have been a Mario fan for as long as I can r...  positive\n",
              "\n",
              "[100 rows x 2 columns]"
            ],
            "text/html": [
              "\n",
              "\n",
              "  <div id=\"df-161efc43-6fd4-4bfd-88db-ae6ab4aaae3e\">\n",
              "    <div class=\"colab-df-container\">\n",
              "      <div>\n",
              "<style scoped>\n",
              "    .dataframe tbody tr th:only-of-type {\n",
              "        vertical-align: middle;\n",
              "    }\n",
              "\n",
              "    .dataframe tbody tr th {\n",
              "        vertical-align: top;\n",
              "    }\n",
              "\n",
              "    .dataframe thead th {\n",
              "        text-align: right;\n",
              "    }\n",
              "</style>\n",
              "<table border=\"1\" class=\"dataframe\">\n",
              "  <thead>\n",
              "    <tr style=\"text-align: right;\">\n",
              "      <th></th>\n",
              "      <th>review</th>\n",
              "      <th>sentiment</th>\n",
              "    </tr>\n",
              "  </thead>\n",
              "  <tbody>\n",
              "    <tr>\n",
              "      <th>0</th>\n",
              "      <td>One of the other reviewers has mentioned that ...</td>\n",
              "      <td>positive</td>\n",
              "    </tr>\n",
              "    <tr>\n",
              "      <th>1</th>\n",
              "      <td>A wonderful little production. &lt;br /&gt;&lt;br /&gt;The...</td>\n",
              "      <td>positive</td>\n",
              "    </tr>\n",
              "    <tr>\n",
              "      <th>2</th>\n",
              "      <td>I thought this was a wonderful way to spend ti...</td>\n",
              "      <td>positive</td>\n",
              "    </tr>\n",
              "    <tr>\n",
              "      <th>3</th>\n",
              "      <td>Basically there's a family where a little boy ...</td>\n",
              "      <td>negative</td>\n",
              "    </tr>\n",
              "    <tr>\n",
              "      <th>4</th>\n",
              "      <td>Petter Mattei's \"Love in the Time of Money\" is...</td>\n",
              "      <td>positive</td>\n",
              "    </tr>\n",
              "    <tr>\n",
              "      <th>...</th>\n",
              "      <td>...</td>\n",
              "      <td>...</td>\n",
              "    </tr>\n",
              "    <tr>\n",
              "      <th>95</th>\n",
              "      <td>Daniel Day-Lewis is the most versatile actor a...</td>\n",
              "      <td>positive</td>\n",
              "    </tr>\n",
              "    <tr>\n",
              "      <th>96</th>\n",
              "      <td>My guess would be this was originally going to...</td>\n",
              "      <td>negative</td>\n",
              "    </tr>\n",
              "    <tr>\n",
              "      <th>97</th>\n",
              "      <td>Well, I like to watch bad horror B-Movies, cau...</td>\n",
              "      <td>negative</td>\n",
              "    </tr>\n",
              "    <tr>\n",
              "      <th>98</th>\n",
              "      <td>This IS the worst movie I have ever seen, as w...</td>\n",
              "      <td>negative</td>\n",
              "    </tr>\n",
              "    <tr>\n",
              "      <th>99</th>\n",
              "      <td>I have been a Mario fan for as long as I can r...</td>\n",
              "      <td>positive</td>\n",
              "    </tr>\n",
              "  </tbody>\n",
              "</table>\n",
              "<p>100 rows × 2 columns</p>\n",
              "</div>\n",
              "      <button class=\"colab-df-convert\" onclick=\"convertToInteractive('df-161efc43-6fd4-4bfd-88db-ae6ab4aaae3e')\"\n",
              "              title=\"Convert this dataframe to an interactive table.\"\n",
              "              style=\"display:none;\">\n",
              "\n",
              "  <svg xmlns=\"http://www.w3.org/2000/svg\" height=\"24px\"viewBox=\"0 0 24 24\"\n",
              "       width=\"24px\">\n",
              "    <path d=\"M0 0h24v24H0V0z\" fill=\"none\"/>\n",
              "    <path d=\"M18.56 5.44l.94 2.06.94-2.06 2.06-.94-2.06-.94-.94-2.06-.94 2.06-2.06.94zm-11 1L8.5 8.5l.94-2.06 2.06-.94-2.06-.94L8.5 2.5l-.94 2.06-2.06.94zm10 10l.94 2.06.94-2.06 2.06-.94-2.06-.94-.94-2.06-.94 2.06-2.06.94z\"/><path d=\"M17.41 7.96l-1.37-1.37c-.4-.4-.92-.59-1.43-.59-.52 0-1.04.2-1.43.59L10.3 9.45l-7.72 7.72c-.78.78-.78 2.05 0 2.83L4 21.41c.39.39.9.59 1.41.59.51 0 1.02-.2 1.41-.59l7.78-7.78 2.81-2.81c.8-.78.8-2.07 0-2.86zM5.41 20L4 18.59l7.72-7.72 1.47 1.35L5.41 20z\"/>\n",
              "  </svg>\n",
              "      </button>\n",
              "\n",
              "\n",
              "\n",
              "    <div id=\"df-f9388bee-2afc-4a68-8e39-de27fd336778\">\n",
              "      <button class=\"colab-df-quickchart\" onclick=\"quickchart('df-f9388bee-2afc-4a68-8e39-de27fd336778')\"\n",
              "              title=\"Suggest charts.\"\n",
              "              style=\"display:none;\">\n",
              "\n",
              "<svg xmlns=\"http://www.w3.org/2000/svg\" height=\"24px\"viewBox=\"0 0 24 24\"\n",
              "     width=\"24px\">\n",
              "    <g>\n",
              "        <path d=\"M19 3H5c-1.1 0-2 .9-2 2v14c0 1.1.9 2 2 2h14c1.1 0 2-.9 2-2V5c0-1.1-.9-2-2-2zM9 17H7v-7h2v7zm4 0h-2V7h2v10zm4 0h-2v-4h2v4z\"/>\n",
              "    </g>\n",
              "</svg>\n",
              "      </button>\n",
              "    </div>\n",
              "\n",
              "<style>\n",
              "  .colab-df-quickchart {\n",
              "    background-color: #E8F0FE;\n",
              "    border: none;\n",
              "    border-radius: 50%;\n",
              "    cursor: pointer;\n",
              "    display: none;\n",
              "    fill: #1967D2;\n",
              "    height: 32px;\n",
              "    padding: 0 0 0 0;\n",
              "    width: 32px;\n",
              "  }\n",
              "\n",
              "  .colab-df-quickchart:hover {\n",
              "    background-color: #E2EBFA;\n",
              "    box-shadow: 0px 1px 2px rgba(60, 64, 67, 0.3), 0px 1px 3px 1px rgba(60, 64, 67, 0.15);\n",
              "    fill: #174EA6;\n",
              "  }\n",
              "\n",
              "  [theme=dark] .colab-df-quickchart {\n",
              "    background-color: #3B4455;\n",
              "    fill: #D2E3FC;\n",
              "  }\n",
              "\n",
              "  [theme=dark] .colab-df-quickchart:hover {\n",
              "    background-color: #434B5C;\n",
              "    box-shadow: 0px 1px 3px 1px rgba(0, 0, 0, 0.15);\n",
              "    filter: drop-shadow(0px 1px 2px rgba(0, 0, 0, 0.3));\n",
              "    fill: #FFFFFF;\n",
              "  }\n",
              "</style>\n",
              "\n",
              "    <script>\n",
              "      async function quickchart(key) {\n",
              "        const containerElement = document.querySelector('#' + key);\n",
              "        const charts = await google.colab.kernel.invokeFunction(\n",
              "            'suggestCharts', [key], {});\n",
              "      }\n",
              "    </script>\n",
              "\n",
              "      <script>\n",
              "\n",
              "function displayQuickchartButton(domScope) {\n",
              "  let quickchartButtonEl =\n",
              "    domScope.querySelector('#df-f9388bee-2afc-4a68-8e39-de27fd336778 button.colab-df-quickchart');\n",
              "  quickchartButtonEl.style.display =\n",
              "    google.colab.kernel.accessAllowed ? 'block' : 'none';\n",
              "}\n",
              "\n",
              "        displayQuickchartButton(document);\n",
              "      </script>\n",
              "      <style>\n",
              "    .colab-df-container {\n",
              "      display:flex;\n",
              "      flex-wrap:wrap;\n",
              "      gap: 12px;\n",
              "    }\n",
              "\n",
              "    .colab-df-convert {\n",
              "      background-color: #E8F0FE;\n",
              "      border: none;\n",
              "      border-radius: 50%;\n",
              "      cursor: pointer;\n",
              "      display: none;\n",
              "      fill: #1967D2;\n",
              "      height: 32px;\n",
              "      padding: 0 0 0 0;\n",
              "      width: 32px;\n",
              "    }\n",
              "\n",
              "    .colab-df-convert:hover {\n",
              "      background-color: #E2EBFA;\n",
              "      box-shadow: 0px 1px 2px rgba(60, 64, 67, 0.3), 0px 1px 3px 1px rgba(60, 64, 67, 0.15);\n",
              "      fill: #174EA6;\n",
              "    }\n",
              "\n",
              "    [theme=dark] .colab-df-convert {\n",
              "      background-color: #3B4455;\n",
              "      fill: #D2E3FC;\n",
              "    }\n",
              "\n",
              "    [theme=dark] .colab-df-convert:hover {\n",
              "      background-color: #434B5C;\n",
              "      box-shadow: 0px 1px 3px 1px rgba(0, 0, 0, 0.15);\n",
              "      filter: drop-shadow(0px 1px 2px rgba(0, 0, 0, 0.3));\n",
              "      fill: #FFFFFF;\n",
              "    }\n",
              "  </style>\n",
              "\n",
              "      <script>\n",
              "        const buttonEl =\n",
              "          document.querySelector('#df-161efc43-6fd4-4bfd-88db-ae6ab4aaae3e button.colab-df-convert');\n",
              "        buttonEl.style.display =\n",
              "          google.colab.kernel.accessAllowed ? 'block' : 'none';\n",
              "\n",
              "        async function convertToInteractive(key) {\n",
              "          const element = document.querySelector('#df-161efc43-6fd4-4bfd-88db-ae6ab4aaae3e');\n",
              "          const dataTable =\n",
              "            await google.colab.kernel.invokeFunction('convertToInteractive',\n",
              "                                                     [key], {});\n",
              "          if (!dataTable) return;\n",
              "\n",
              "          const docLinkHtml = 'Like what you see? Visit the ' +\n",
              "            '<a target=\"_blank\" href=https://colab.research.google.com/notebooks/data_table.ipynb>data table notebook</a>'\n",
              "            + ' to learn more about interactive tables.';\n",
              "          element.innerHTML = '';\n",
              "          dataTable['output_type'] = 'display_data';\n",
              "          await google.colab.output.renderOutput(dataTable, element);\n",
              "          const docLink = document.createElement('div');\n",
              "          docLink.innerHTML = docLinkHtml;\n",
              "          element.appendChild(docLink);\n",
              "        }\n",
              "      </script>\n",
              "    </div>\n",
              "  </div>\n"
            ]
          },
          "metadata": {},
          "execution_count": 2
        }
      ]
    },
    {
      "cell_type": "code",
      "source": [
        "text=df.iloc[0,0].lower()"
      ],
      "metadata": {
        "id": "xkMGvQa6Skd1"
      },
      "execution_count": null,
      "outputs": []
    },
    {
      "cell_type": "code",
      "source": [
        "text"
      ],
      "metadata": {
        "colab": {
          "base_uri": "https://localhost:8080/",
          "height": 574
        },
        "id": "gHKjQRvRUnzV",
        "outputId": "cd91f17d-ecde-4a0d-d5f9-358dab93ffee"
      },
      "execution_count": null,
      "outputs": [
        {
          "output_type": "execute_result",
          "data": {
            "text/plain": [
              "\"one of the other reviewers has mentioned that after watching just 1 oz episode you'll be hooked. they are right, as this is exactly what happened with me.<br /><br />the first thing that struck me about oz was its brutality and unflinching scenes of violence, which set in right from the word go. trust me, this is not a show for the faint hearted or timid. this show pulls no punches with regards to drugs, sex or violence. its is hardcore, in the classic use of the word.<br /><br />it is called oz as that is the nickname given to the oswald maximum security state penitentary. it focuses mainly on emerald city, an experimental section of the prison where all the cells have glass fronts and face inwards, so privacy is not high on the agenda. em city is home to many..aryans, muslims, gangstas, latinos, christians, italians, irish and more....so scuffles, death stares, dodgy dealings and shady agreements are never far away.<br /><br />i would say the main appeal of the show is due to the fact that it goes where other shows wouldn't dare. forget pretty pictures painted for mainstream audiences, forget charm, forget romance...oz doesn't mess around. the first episode i ever saw struck me as so nasty it was surreal, i couldn't say i was ready for it, but as i watched more, i developed a taste for oz, and got accustomed to the high levels of graphic violence. not just violence, but injustice (crooked guards who'll be sold out for a nickel, inmates who'll kill on order and get away with it, well mannered, middle class inmates being turned into prison bitches due to their lack of street skills or prison experience) watching oz, you may become comfortable with what is uncomfortable viewing....thats if you can get in touch with your darker side.\""
            ],
            "application/vnd.google.colaboratory.intrinsic+json": {
              "type": "string"
            }
          },
          "metadata": {},
          "execution_count": 4
        }
      ]
    },
    {
      "cell_type": "code",
      "source": [
        "import re\n",
        "def remove_url(text):\n",
        "   pattern=re.compile('https://?\\$<br /><www.¿+')\n",
        "   return pattern.sub(r'',text)"
      ],
      "metadata": {
        "id": "M1h1stMqTW82"
      },
      "execution_count": null,
      "outputs": []
    },
    {
      "cell_type": "code",
      "source": [
        "df['review']=df['review'].str.lower()"
      ],
      "metadata": {
        "id": "TtB9gQlKWN6g"
      },
      "execution_count": null,
      "outputs": []
    },
    {
      "cell_type": "code",
      "source": [
        "import string\n",
        "exclude=string.punctuation\n",
        "exclude"
      ],
      "metadata": {
        "colab": {
          "base_uri": "https://localhost:8080/",
          "height": 53
        },
        "id": "ch5klFRnW2EP",
        "outputId": "a5031bb9-4df6-4670-e166-fa03b7f3912e"
      },
      "execution_count": null,
      "outputs": [
        {
          "output_type": "execute_result",
          "data": {
            "text/plain": [
              "'!\"#$%&\\'()*+,-./:;<=>?@[\\\\]^_`{|}~'"
            ],
            "application/vnd.google.colaboratory.intrinsic+json": {
              "type": "string"
            }
          },
          "metadata": {},
          "execution_count": 7
        }
      ]
    },
    {
      "cell_type": "code",
      "source": [
        "def remove(text):\n",
        "   for char in exclude:\n",
        "      text=text.replace(char,'')\n",
        "   return text"
      ],
      "metadata": {
        "id": "uj2PxK5JY84g"
      },
      "execution_count": null,
      "outputs": []
    },
    {
      "cell_type": "code",
      "source": [
        "remove(text)"
      ],
      "metadata": {
        "colab": {
          "base_uri": "https://localhost:8080/",
          "height": 574
        },
        "id": "vpwfqKRwZo3A",
        "outputId": "77f20dac-ce07-411b-d60f-3a5f9e0a6af0"
      },
      "execution_count": null,
      "outputs": [
        {
          "output_type": "execute_result",
          "data": {
            "text/plain": [
              "'one of the other reviewers has mentioned that after watching just 1 oz episode youll be hooked they are right as this is exactly what happened with mebr br the first thing that struck me about oz was its brutality and unflinching scenes of violence which set in right from the word go trust me this is not a show for the faint hearted or timid this show pulls no punches with regards to drugs sex or violence its is hardcore in the classic use of the wordbr br it is called oz as that is the nickname given to the oswald maximum security state penitentary it focuses mainly on emerald city an experimental section of the prison where all the cells have glass fronts and face inwards so privacy is not high on the agenda em city is home to manyaryans muslims gangstas latinos christians italians irish and moreso scuffles death stares dodgy dealings and shady agreements are never far awaybr br i would say the main appeal of the show is due to the fact that it goes where other shows wouldnt dare forget pretty pictures painted for mainstream audiences forget charm forget romanceoz doesnt mess around the first episode i ever saw struck me as so nasty it was surreal i couldnt say i was ready for it but as i watched more i developed a taste for oz and got accustomed to the high levels of graphic violence not just violence but injustice crooked guards wholl be sold out for a nickel inmates wholl kill on order and get away with it well mannered middle class inmates being turned into prison bitches due to their lack of street skills or prison experience watching oz you may become comfortable with what is uncomfortable viewingthats if you can get in touch with your darker side'"
            ],
            "application/vnd.google.colaboratory.intrinsic+json": {
              "type": "string"
            }
          },
          "metadata": {},
          "execution_count": 9
        }
      ]
    },
    {
      "cell_type": "code",
      "source": [
        "def tran(text):\n",
        "   return text.translate(str.maketrans('','',exclude))"
      ],
      "metadata": {
        "id": "4pYMBc2KZ-N8"
      },
      "execution_count": null,
      "outputs": []
    },
    {
      "cell_type": "code",
      "source": [
        "tran(text)"
      ],
      "metadata": {
        "colab": {
          "base_uri": "https://localhost:8080/",
          "height": 574
        },
        "id": "b3-iyjNDaa9Z",
        "outputId": "de779da3-5d40-4c54-e026-df173d18ba39"
      },
      "execution_count": null,
      "outputs": [
        {
          "output_type": "execute_result",
          "data": {
            "text/plain": [
              "'one of the other reviewers has mentioned that after watching just 1 oz episode youll be hooked they are right as this is exactly what happened with mebr br the first thing that struck me about oz was its brutality and unflinching scenes of violence which set in right from the word go trust me this is not a show for the faint hearted or timid this show pulls no punches with regards to drugs sex or violence its is hardcore in the classic use of the wordbr br it is called oz as that is the nickname given to the oswald maximum security state penitentary it focuses mainly on emerald city an experimental section of the prison where all the cells have glass fronts and face inwards so privacy is not high on the agenda em city is home to manyaryans muslims gangstas latinos christians italians irish and moreso scuffles death stares dodgy dealings and shady agreements are never far awaybr br i would say the main appeal of the show is due to the fact that it goes where other shows wouldnt dare forget pretty pictures painted for mainstream audiences forget charm forget romanceoz doesnt mess around the first episode i ever saw struck me as so nasty it was surreal i couldnt say i was ready for it but as i watched more i developed a taste for oz and got accustomed to the high levels of graphic violence not just violence but injustice crooked guards wholl be sold out for a nickel inmates wholl kill on order and get away with it well mannered middle class inmates being turned into prison bitches due to their lack of street skills or prison experience watching oz you may become comfortable with what is uncomfortable viewingthats if you can get in touch with your darker side'"
            ],
            "application/vnd.google.colaboratory.intrinsic+json": {
              "type": "string"
            }
          },
          "metadata": {},
          "execution_count": 11
        }
      ]
    },
    {
      "cell_type": "code",
      "source": [
        "df.iloc[:,0]=df.iloc[:,0].apply(tran)"
      ],
      "metadata": {
        "id": "2uE-vlxQcZf4"
      },
      "execution_count": null,
      "outputs": []
    },
    {
      "cell_type": "code",
      "source": [
        "df.iloc[0,0]"
      ],
      "metadata": {
        "colab": {
          "base_uri": "https://localhost:8080/",
          "height": 574
        },
        "id": "cUDJn-WTcv3G",
        "outputId": "e380e2f3-f020-407f-8f68-136be9c90c03"
      },
      "execution_count": null,
      "outputs": [
        {
          "output_type": "execute_result",
          "data": {
            "text/plain": [
              "'one of the other reviewers has mentioned that after watching just 1 oz episode youll be hooked they are right as this is exactly what happened with mebr br the first thing that struck me about oz was its brutality and unflinching scenes of violence which set in right from the word go trust me this is not a show for the faint hearted or timid this show pulls no punches with regards to drugs sex or violence its is hardcore in the classic use of the wordbr br it is called oz as that is the nickname given to the oswald maximum security state penitentary it focuses mainly on emerald city an experimental section of the prison where all the cells have glass fronts and face inwards so privacy is not high on the agenda em city is home to manyaryans muslims gangstas latinos christians italians irish and moreso scuffles death stares dodgy dealings and shady agreements are never far awaybr br i would say the main appeal of the show is due to the fact that it goes where other shows wouldnt dare forget pretty pictures painted for mainstream audiences forget charm forget romanceoz doesnt mess around the first episode i ever saw struck me as so nasty it was surreal i couldnt say i was ready for it but as i watched more i developed a taste for oz and got accustomed to the high levels of graphic violence not just violence but injustice crooked guards wholl be sold out for a nickel inmates wholl kill on order and get away with it well mannered middle class inmates being turned into prison bitches due to their lack of street skills or prison experience watching oz you may become comfortable with what is uncomfortable viewingthats if you can get in touch with your darker side'"
            ],
            "application/vnd.google.colaboratory.intrinsic+json": {
              "type": "string"
            }
          },
          "metadata": {},
          "execution_count": 13
        }
      ]
    },
    {
      "cell_type": "code",
      "source": [
        "from textblob import TextBlob"
      ],
      "metadata": {
        "id": "S9vdk8GNeqh1"
      },
      "execution_count": null,
      "outputs": []
    },
    {
      "cell_type": "code",
      "source": [
        "text=df.iloc[0,0]"
      ],
      "metadata": {
        "id": "WEEzcpOsfDd0"
      },
      "execution_count": null,
      "outputs": []
    },
    {
      "cell_type": "code",
      "source": [
        "textblob=TextBlob(text)\n",
        "print(textblob.correct().string)"
      ],
      "metadata": {
        "colab": {
          "base_uri": "https://localhost:8080/"
        },
        "id": "3LeJ3k5KfHuW",
        "outputId": "b12168f0-89e3-4f0b-c057-906d61d91c35"
      },
      "execution_count": null,
      "outputs": [
        {
          "output_type": "stream",
          "name": "stdout",
          "text": [
            "one of the other reviews has mentioned that after watching just 1 oz episode you be hooked they are right as this is exactly what happened with her br the first thing that struck me about oz was its brutally and unflinching scenes of violence which set in right from the word go trust me this is not a show for the faint hearted or timid this show pulls no punched with regards to drugs sex or violence its is hardware in the classic use of the words br it is called oz as that is the nickname given to the onward maximum security state penitentiary it focused mainly on emerald city an experimental section of the prison where all the cells have glass fronts and face inwards so privacy is not high on the agenda em city is home to manyaryans muslin gangstas nations christians italians irish and more snuffles death stares podgy dealings and shady agreements are never far away br i would say the main appeal of the show is due to the fact that it goes where other shows wouldn dare forget pretty pictures painted for mainstream audiences forget charm forget romance doesn mess around the first episode i ever saw struck me as so nasty it was surrey i couldn say i was ready for it but as i watched more i developed a taste for oz and got accustomed to the high levels of graphics violence not just violence but injustice crooked guards whole be sold out for a nickel inmates whole kill on order and get away with it well manner middle class inmates being turned into prison birches due to their lack of street skill or prison experience watching oz you may become comfortable with what is uncomfortable viewingthats if you can get in touch with your darker side\n"
          ]
        }
      ]
    },
    {
      "cell_type": "code",
      "source": [
        "\n",
        "def spell(text):\n",
        "   textblob=TextBlob(text)\n",
        "   return textblob.correct().string"
      ],
      "metadata": {
        "id": "nPISAi3rfpr0"
      },
      "execution_count": null,
      "outputs": []
    },
    {
      "cell_type": "code",
      "source": [
        "df.iloc[:, 0]=df.iloc[:,0].apply(spell)"
      ],
      "metadata": {
        "id": "hvOArZ-Yf5CQ"
      },
      "execution_count": null,
      "outputs": []
    },
    {
      "cell_type": "code",
      "source": [
        "import nltk\n",
        "\n",
        "nltk.download('stopwords')"
      ],
      "metadata": {
        "colab": {
          "base_uri": "https://localhost:8080/"
        },
        "id": "Q0kyk2f4icy9",
        "outputId": "9a01c11d-62b0-4724-8d7f-1ef5a948d64a"
      },
      "execution_count": null,
      "outputs": [
        {
          "output_type": "stream",
          "name": "stderr",
          "text": [
            "[nltk_data] Downloading package stopwords to /root/nltk_data...\n",
            "[nltk_data]   Unzipping corpora/stopwords.zip.\n"
          ]
        },
        {
          "output_type": "execute_result",
          "data": {
            "text/plain": [
              "True"
            ]
          },
          "metadata": {},
          "execution_count": 19
        }
      ]
    },
    {
      "cell_type": "markdown",
      "source": [],
      "metadata": {
        "id": "zJYbMEG_X1gU"
      }
    },
    {
      "cell_type": "code",
      "source": [
        "from nltk.corpus import stopwords\n",
        "exclude=stopwords.words('english')\n",
        "exclude"
      ],
      "metadata": {
        "colab": {
          "base_uri": "https://localhost:8080/"
        },
        "id": "M4GW9ta3iawS",
        "outputId": "0ef1d5f7-f99c-4d3b-b82b-ba5d31c95594"
      },
      "execution_count": null,
      "outputs": [
        {
          "output_type": "execute_result",
          "data": {
            "text/plain": [
              "['i',\n",
              " 'me',\n",
              " 'my',\n",
              " 'myself',\n",
              " 'we',\n",
              " 'our',\n",
              " 'ours',\n",
              " 'ourselves',\n",
              " 'you',\n",
              " \"you're\",\n",
              " \"you've\",\n",
              " \"you'll\",\n",
              " \"you'd\",\n",
              " 'your',\n",
              " 'yours',\n",
              " 'yourself',\n",
              " 'yourselves',\n",
              " 'he',\n",
              " 'him',\n",
              " 'his',\n",
              " 'himself',\n",
              " 'she',\n",
              " \"she's\",\n",
              " 'her',\n",
              " 'hers',\n",
              " 'herself',\n",
              " 'it',\n",
              " \"it's\",\n",
              " 'its',\n",
              " 'itself',\n",
              " 'they',\n",
              " 'them',\n",
              " 'their',\n",
              " 'theirs',\n",
              " 'themselves',\n",
              " 'what',\n",
              " 'which',\n",
              " 'who',\n",
              " 'whom',\n",
              " 'this',\n",
              " 'that',\n",
              " \"that'll\",\n",
              " 'these',\n",
              " 'those',\n",
              " 'am',\n",
              " 'is',\n",
              " 'are',\n",
              " 'was',\n",
              " 'were',\n",
              " 'be',\n",
              " 'been',\n",
              " 'being',\n",
              " 'have',\n",
              " 'has',\n",
              " 'had',\n",
              " 'having',\n",
              " 'do',\n",
              " 'does',\n",
              " 'did',\n",
              " 'doing',\n",
              " 'a',\n",
              " 'an',\n",
              " 'the',\n",
              " 'and',\n",
              " 'but',\n",
              " 'if',\n",
              " 'or',\n",
              " 'because',\n",
              " 'as',\n",
              " 'until',\n",
              " 'while',\n",
              " 'of',\n",
              " 'at',\n",
              " 'by',\n",
              " 'for',\n",
              " 'with',\n",
              " 'about',\n",
              " 'against',\n",
              " 'between',\n",
              " 'into',\n",
              " 'through',\n",
              " 'during',\n",
              " 'before',\n",
              " 'after',\n",
              " 'above',\n",
              " 'below',\n",
              " 'to',\n",
              " 'from',\n",
              " 'up',\n",
              " 'down',\n",
              " 'in',\n",
              " 'out',\n",
              " 'on',\n",
              " 'off',\n",
              " 'over',\n",
              " 'under',\n",
              " 'again',\n",
              " 'further',\n",
              " 'then',\n",
              " 'once',\n",
              " 'here',\n",
              " 'there',\n",
              " 'when',\n",
              " 'where',\n",
              " 'why',\n",
              " 'how',\n",
              " 'all',\n",
              " 'any',\n",
              " 'both',\n",
              " 'each',\n",
              " 'few',\n",
              " 'more',\n",
              " 'most',\n",
              " 'other',\n",
              " 'some',\n",
              " 'such',\n",
              " 'no',\n",
              " 'nor',\n",
              " 'not',\n",
              " 'only',\n",
              " 'own',\n",
              " 'same',\n",
              " 'so',\n",
              " 'than',\n",
              " 'too',\n",
              " 'very',\n",
              " 's',\n",
              " 't',\n",
              " 'can',\n",
              " 'will',\n",
              " 'just',\n",
              " 'don',\n",
              " \"don't\",\n",
              " 'should',\n",
              " \"should've\",\n",
              " 'now',\n",
              " 'd',\n",
              " 'll',\n",
              " 'm',\n",
              " 'o',\n",
              " 're',\n",
              " 've',\n",
              " 'y',\n",
              " 'ain',\n",
              " 'aren',\n",
              " \"aren't\",\n",
              " 'couldn',\n",
              " \"couldn't\",\n",
              " 'didn',\n",
              " \"didn't\",\n",
              " 'doesn',\n",
              " \"doesn't\",\n",
              " 'hadn',\n",
              " \"hadn't\",\n",
              " 'hasn',\n",
              " \"hasn't\",\n",
              " 'haven',\n",
              " \"haven't\",\n",
              " 'isn',\n",
              " \"isn't\",\n",
              " 'ma',\n",
              " 'mightn',\n",
              " \"mightn't\",\n",
              " 'mustn',\n",
              " \"mustn't\",\n",
              " 'needn',\n",
              " \"needn't\",\n",
              " 'shan',\n",
              " \"shan't\",\n",
              " 'shouldn',\n",
              " \"shouldn't\",\n",
              " 'wasn',\n",
              " \"wasn't\",\n",
              " 'weren',\n",
              " \"weren't\",\n",
              " 'won',\n",
              " \"won't\",\n",
              " 'wouldn',\n",
              " \"wouldn't\"]"
            ]
          },
          "metadata": {},
          "execution_count": 20
        }
      ]
    },
    {
      "cell_type": "code",
      "source": [
        "import re\n",
        "x=[]\n",
        "def remove_stp_word(text):\n",
        "   for word in text.split():\n",
        "      if word not in exclude:\n",
        "         x.append(word)\n",
        "   return  \" \".join(x)\n",
        "remove_stp_word(text)"
      ],
      "metadata": {
        "colab": {
          "base_uri": "https://localhost:8080/",
          "height": 574
        },
        "id": "V-AE8ZEXikmr",
        "outputId": "1498996d-f451-4f68-83ee-bab501216a5f"
      },
      "execution_count": null,
      "outputs": [
        {
          "output_type": "execute_result",
          "data": {
            "text/plain": [
              "'one reviewers mentioned watching 1 oz episode youll hooked right exactly happened mebr br first thing struck oz brutality unflinching scenes violence set right word go trust show faint hearted timid show pulls punches regards drugs sex violence hardcore classic use wordbr br called oz nickname given oswald maximum security state penitentary focuses mainly emerald city experimental section prison cells glass fronts face inwards privacy high agenda em city home manyaryans muslims gangstas latinos christians italians irish moreso scuffles death stares dodgy dealings shady agreements never far awaybr br would say main appeal show due fact goes shows wouldnt dare forget pretty pictures painted mainstream audiences forget charm forget romanceoz doesnt mess around first episode ever saw struck nasty surreal couldnt say ready watched developed taste oz got accustomed high levels graphic violence violence injustice crooked guards wholl sold nickel inmates wholl kill order get away well mannered middle class inmates turned prison bitches due lack street skills prison experience watching oz may become comfortable uncomfortable viewingthats get touch darker side'"
            ],
            "application/vnd.google.colaboratory.intrinsic+json": {
              "type": "string"
            }
          },
          "metadata": {},
          "execution_count": 21
        }
      ]
    },
    {
      "cell_type": "code",
      "source": [
        "from nltk.stem.porter import PorterStemmer\n",
        "ps=PorterStemmer()\n",
        "def text_stem(text):\n",
        "   return \" \".join([ps.stem(word) for word in text.split()])\n",
        "text_stem(text)"
      ],
      "metadata": {
        "colab": {
          "base_uri": "https://localhost:8080/",
          "height": 574
        },
        "id": "ISNhD3DulWCB",
        "outputId": "340c9537-4bb5-436b-b3ec-72478e54572b"
      },
      "execution_count": null,
      "outputs": [
        {
          "output_type": "execute_result",
          "data": {
            "text/plain": [
              "'one of the other review ha mention that after watch just 1 oz episod youll be hook they are right as thi is exactli what happen with mebr br the first thing that struck me about oz wa it brutal and unflinch scene of violenc which set in right from the word go trust me thi is not a show for the faint heart or timid thi show pull no punch with regard to drug sex or violenc it is hardcor in the classic use of the wordbr br it is call oz as that is the nicknam given to the oswald maximum secur state penitentari it focus mainli on emerald citi an experiment section of the prison where all the cell have glass front and face inward so privaci is not high on the agenda em citi is home to manyaryan muslim gangsta latino christian italian irish and moreso scuffl death stare dodgi deal and shadi agreement are never far awaybr br i would say the main appeal of the show is due to the fact that it goe where other show wouldnt dare forget pretti pictur paint for mainstream audienc forget charm forget romanceoz doesnt mess around the first episod i ever saw struck me as so nasti it wa surreal i couldnt say i wa readi for it but as i watch more i develop a tast for oz and got accustom to the high level of graphic violenc not just violenc but injustic crook guard wholl be sold out for a nickel inmat wholl kill on order and get away with it well manner middl class inmat be turn into prison bitch due to their lack of street skill or prison experi watch oz you may becom comfort with what is uncomfort viewingthat if you can get in touch with your darker side'"
            ],
            "application/vnd.google.colaboratory.intrinsic+json": {
              "type": "string"
            }
          },
          "metadata": {},
          "execution_count": 22
        }
      ]
    },
    {
      "cell_type": "code",
      "source": [
        "import nltk\n",
        "nltk.download('wordnet')"
      ],
      "metadata": {
        "colab": {
          "base_uri": "https://localhost:8080/"
        },
        "id": "ykYULzG-uPyT",
        "outputId": "772eaa58-1ff1-42ec-c832-83cb9a1814fe"
      },
      "execution_count": null,
      "outputs": [
        {
          "output_type": "stream",
          "name": "stderr",
          "text": [
            "[nltk_data] Downloading package wordnet to /root/nltk_data...\n"
          ]
        },
        {
          "output_type": "execute_result",
          "data": {
            "text/plain": [
              "True"
            ]
          },
          "metadata": {},
          "execution_count": 23
        }
      ]
    },
    {
      "cell_type": "code",
      "source": [
        "from nltk.stem import WordNetLemmatizer\n",
        "lem=WordNetLemmatizer()\n",
        "def text_lem(text):\n",
        "   return \" \".join([lem.lemmatize(word) for word in text.split()])\n",
        "text_stem(text)"
      ],
      "metadata": {
        "colab": {
          "base_uri": "https://localhost:8080/",
          "height": 574
        },
        "id": "fT45-OzOoXgF",
        "outputId": "104b96ec-b09d-4066-fbd9-308c06c25010"
      },
      "execution_count": null,
      "outputs": [
        {
          "output_type": "execute_result",
          "data": {
            "text/plain": [
              "'one of the other review ha mention that after watch just 1 oz episod youll be hook they are right as thi is exactli what happen with mebr br the first thing that struck me about oz wa it brutal and unflinch scene of violenc which set in right from the word go trust me thi is not a show for the faint heart or timid thi show pull no punch with regard to drug sex or violenc it is hardcor in the classic use of the wordbr br it is call oz as that is the nicknam given to the oswald maximum secur state penitentari it focus mainli on emerald citi an experiment section of the prison where all the cell have glass front and face inward so privaci is not high on the agenda em citi is home to manyaryan muslim gangsta latino christian italian irish and moreso scuffl death stare dodgi deal and shadi agreement are never far awaybr br i would say the main appeal of the show is due to the fact that it goe where other show wouldnt dare forget pretti pictur paint for mainstream audienc forget charm forget romanceoz doesnt mess around the first episod i ever saw struck me as so nasti it wa surreal i couldnt say i wa readi for it but as i watch more i develop a tast for oz and got accustom to the high level of graphic violenc not just violenc but injustic crook guard wholl be sold out for a nickel inmat wholl kill on order and get away with it well manner middl class inmat be turn into prison bitch due to their lack of street skill or prison experi watch oz you may becom comfort with what is uncomfort viewingthat if you can get in touch with your darker side'"
            ],
            "application/vnd.google.colaboratory.intrinsic+json": {
              "type": "string"
            }
          },
          "metadata": {},
          "execution_count": 24
        }
      ]
    },
    {
      "cell_type": "code",
      "source": [
        "df['review']=df['review'].apply(remove_stp_word)\n",
        "df['review']=df['review'].apply(text_lem)"
      ],
      "metadata": {
        "id": "VTvoHTQyrjpo"
      },
      "execution_count": null,
      "outputs": []
    },
    {
      "cell_type": "code",
      "source": [
        "df.head(2)"
      ],
      "metadata": {
        "colab": {
          "base_uri": "https://localhost:8080/",
          "height": 226
        },
        "id": "HEB8HJ-lwzFe",
        "outputId": "c0e4d9f5-5c55-4ee1-d3b4-d633bbe8d417"
      },
      "execution_count": null,
      "outputs": [
        {
          "output_type": "execute_result",
          "data": {
            "text/plain": [
              "                                              review sentiment\n",
              "0  one reviewer mentioned watching 1 oz episode y...  positive\n",
              "1  one reviewer mentioned watching 1 oz episode y...  positive"
            ],
            "text/html": [
              "\n",
              "\n",
              "  <div id=\"df-4f6a0729-defb-4f5a-a8b9-c0c88ad1d428\">\n",
              "    <div class=\"colab-df-container\">\n",
              "      <div>\n",
              "<style scoped>\n",
              "    .dataframe tbody tr th:only-of-type {\n",
              "        vertical-align: middle;\n",
              "    }\n",
              "\n",
              "    .dataframe tbody tr th {\n",
              "        vertical-align: top;\n",
              "    }\n",
              "\n",
              "    .dataframe thead th {\n",
              "        text-align: right;\n",
              "    }\n",
              "</style>\n",
              "<table border=\"1\" class=\"dataframe\">\n",
              "  <thead>\n",
              "    <tr style=\"text-align: right;\">\n",
              "      <th></th>\n",
              "      <th>review</th>\n",
              "      <th>sentiment</th>\n",
              "    </tr>\n",
              "  </thead>\n",
              "  <tbody>\n",
              "    <tr>\n",
              "      <th>0</th>\n",
              "      <td>one reviewer mentioned watching 1 oz episode y...</td>\n",
              "      <td>positive</td>\n",
              "    </tr>\n",
              "    <tr>\n",
              "      <th>1</th>\n",
              "      <td>one reviewer mentioned watching 1 oz episode y...</td>\n",
              "      <td>positive</td>\n",
              "    </tr>\n",
              "  </tbody>\n",
              "</table>\n",
              "</div>\n",
              "      <button class=\"colab-df-convert\" onclick=\"convertToInteractive('df-4f6a0729-defb-4f5a-a8b9-c0c88ad1d428')\"\n",
              "              title=\"Convert this dataframe to an interactive table.\"\n",
              "              style=\"display:none;\">\n",
              "\n",
              "  <svg xmlns=\"http://www.w3.org/2000/svg\" height=\"24px\"viewBox=\"0 0 24 24\"\n",
              "       width=\"24px\">\n",
              "    <path d=\"M0 0h24v24H0V0z\" fill=\"none\"/>\n",
              "    <path d=\"M18.56 5.44l.94 2.06.94-2.06 2.06-.94-2.06-.94-.94-2.06-.94 2.06-2.06.94zm-11 1L8.5 8.5l.94-2.06 2.06-.94-2.06-.94L8.5 2.5l-.94 2.06-2.06.94zm10 10l.94 2.06.94-2.06 2.06-.94-2.06-.94-.94-2.06-.94 2.06-2.06.94z\"/><path d=\"M17.41 7.96l-1.37-1.37c-.4-.4-.92-.59-1.43-.59-.52 0-1.04.2-1.43.59L10.3 9.45l-7.72 7.72c-.78.78-.78 2.05 0 2.83L4 21.41c.39.39.9.59 1.41.59.51 0 1.02-.2 1.41-.59l7.78-7.78 2.81-2.81c.8-.78.8-2.07 0-2.86zM5.41 20L4 18.59l7.72-7.72 1.47 1.35L5.41 20z\"/>\n",
              "  </svg>\n",
              "      </button>\n",
              "\n",
              "\n",
              "\n",
              "    <div id=\"df-78ba873e-8df5-4f07-a476-769f998c6ec4\">\n",
              "      <button class=\"colab-df-quickchart\" onclick=\"quickchart('df-78ba873e-8df5-4f07-a476-769f998c6ec4')\"\n",
              "              title=\"Suggest charts.\"\n",
              "              style=\"display:none;\">\n",
              "\n",
              "<svg xmlns=\"http://www.w3.org/2000/svg\" height=\"24px\"viewBox=\"0 0 24 24\"\n",
              "     width=\"24px\">\n",
              "    <g>\n",
              "        <path d=\"M19 3H5c-1.1 0-2 .9-2 2v14c0 1.1.9 2 2 2h14c1.1 0 2-.9 2-2V5c0-1.1-.9-2-2-2zM9 17H7v-7h2v7zm4 0h-2V7h2v10zm4 0h-2v-4h2v4z\"/>\n",
              "    </g>\n",
              "</svg>\n",
              "      </button>\n",
              "    </div>\n",
              "\n",
              "<style>\n",
              "  .colab-df-quickchart {\n",
              "    background-color: #E8F0FE;\n",
              "    border: none;\n",
              "    border-radius: 50%;\n",
              "    cursor: pointer;\n",
              "    display: none;\n",
              "    fill: #1967D2;\n",
              "    height: 32px;\n",
              "    padding: 0 0 0 0;\n",
              "    width: 32px;\n",
              "  }\n",
              "\n",
              "  .colab-df-quickchart:hover {\n",
              "    background-color: #E2EBFA;\n",
              "    box-shadow: 0px 1px 2px rgba(60, 64, 67, 0.3), 0px 1px 3px 1px rgba(60, 64, 67, 0.15);\n",
              "    fill: #174EA6;\n",
              "  }\n",
              "\n",
              "  [theme=dark] .colab-df-quickchart {\n",
              "    background-color: #3B4455;\n",
              "    fill: #D2E3FC;\n",
              "  }\n",
              "\n",
              "  [theme=dark] .colab-df-quickchart:hover {\n",
              "    background-color: #434B5C;\n",
              "    box-shadow: 0px 1px 3px 1px rgba(0, 0, 0, 0.15);\n",
              "    filter: drop-shadow(0px 1px 2px rgba(0, 0, 0, 0.3));\n",
              "    fill: #FFFFFF;\n",
              "  }\n",
              "</style>\n",
              "\n",
              "    <script>\n",
              "      async function quickchart(key) {\n",
              "        const containerElement = document.querySelector('#' + key);\n",
              "        const charts = await google.colab.kernel.invokeFunction(\n",
              "            'suggestCharts', [key], {});\n",
              "      }\n",
              "    </script>\n",
              "\n",
              "      <script>\n",
              "\n",
              "function displayQuickchartButton(domScope) {\n",
              "  let quickchartButtonEl =\n",
              "    domScope.querySelector('#df-78ba873e-8df5-4f07-a476-769f998c6ec4 button.colab-df-quickchart');\n",
              "  quickchartButtonEl.style.display =\n",
              "    google.colab.kernel.accessAllowed ? 'block' : 'none';\n",
              "}\n",
              "\n",
              "        displayQuickchartButton(document);\n",
              "      </script>\n",
              "      <style>\n",
              "    .colab-df-container {\n",
              "      display:flex;\n",
              "      flex-wrap:wrap;\n",
              "      gap: 12px;\n",
              "    }\n",
              "\n",
              "    .colab-df-convert {\n",
              "      background-color: #E8F0FE;\n",
              "      border: none;\n",
              "      border-radius: 50%;\n",
              "      cursor: pointer;\n",
              "      display: none;\n",
              "      fill: #1967D2;\n",
              "      height: 32px;\n",
              "      padding: 0 0 0 0;\n",
              "      width: 32px;\n",
              "    }\n",
              "\n",
              "    .colab-df-convert:hover {\n",
              "      background-color: #E2EBFA;\n",
              "      box-shadow: 0px 1px 2px rgba(60, 64, 67, 0.3), 0px 1px 3px 1px rgba(60, 64, 67, 0.15);\n",
              "      fill: #174EA6;\n",
              "    }\n",
              "\n",
              "    [theme=dark] .colab-df-convert {\n",
              "      background-color: #3B4455;\n",
              "      fill: #D2E3FC;\n",
              "    }\n",
              "\n",
              "    [theme=dark] .colab-df-convert:hover {\n",
              "      background-color: #434B5C;\n",
              "      box-shadow: 0px 1px 3px 1px rgba(0, 0, 0, 0.15);\n",
              "      filter: drop-shadow(0px 1px 2px rgba(0, 0, 0, 0.3));\n",
              "      fill: #FFFFFF;\n",
              "    }\n",
              "  </style>\n",
              "\n",
              "      <script>\n",
              "        const buttonEl =\n",
              "          document.querySelector('#df-4f6a0729-defb-4f5a-a8b9-c0c88ad1d428 button.colab-df-convert');\n",
              "        buttonEl.style.display =\n",
              "          google.colab.kernel.accessAllowed ? 'block' : 'none';\n",
              "\n",
              "        async function convertToInteractive(key) {\n",
              "          const element = document.querySelector('#df-4f6a0729-defb-4f5a-a8b9-c0c88ad1d428');\n",
              "          const dataTable =\n",
              "            await google.colab.kernel.invokeFunction('convertToInteractive',\n",
              "                                                     [key], {});\n",
              "          if (!dataTable) return;\n",
              "\n",
              "          const docLinkHtml = 'Like what you see? Visit the ' +\n",
              "            '<a target=\"_blank\" href=https://colab.research.google.com/notebooks/data_table.ipynb>data table notebook</a>'\n",
              "            + ' to learn more about interactive tables.';\n",
              "          element.innerHTML = '';\n",
              "          dataTable['output_type'] = 'display_data';\n",
              "          await google.colab.output.renderOutput(dataTable, element);\n",
              "          const docLink = document.createElement('div');\n",
              "          docLink.innerHTML = docLinkHtml;\n",
              "          element.appendChild(docLink);\n",
              "        }\n",
              "      </script>\n",
              "    </div>\n",
              "  </div>\n"
            ]
          },
          "metadata": {},
          "execution_count": 26
        }
      ]
    },
    {
      "cell_type": "code",
      "source": [
        "from sklearn.feature_extraction.text import CountVectorizer\n",
        "cv=CountVectorizer()"
      ],
      "metadata": {
        "id": "rHGhHNTMNBvM"
      },
      "execution_count": null,
      "outputs": []
    },
    {
      "cell_type": "code",
      "source": [
        "x=df.drop('sentiment', axis=1)\n",
        "y=df.sentiment"
      ],
      "metadata": {
        "id": "LxAfxO63WxwE"
      },
      "execution_count": null,
      "outputs": []
    },
    {
      "cell_type": "code",
      "source": [
        "x"
      ],
      "metadata": {
        "colab": {
          "base_uri": "https://localhost:8080/",
          "height": 641
        },
        "id": "COJlAL3TZpQn",
        "outputId": "e5932893-6fd3-4090-aebc-266cb0c0d599"
      },
      "execution_count": null,
      "outputs": [
        {
          "output_type": "execute_result",
          "data": {
            "text/plain": [
              "                                               review\n",
              "0   one reviewer mentioned watching 1 oz episode y...\n",
              "1   one reviewer mentioned watching 1 oz episode y...\n",
              "2   one reviewer mentioned watching 1 oz episode y...\n",
              "3   one reviewer mentioned watching 1 oz episode y...\n",
              "4   one reviewer mentioned watching 1 oz episode y...\n",
              "..                                                ...\n",
              "95  one reviewer mentioned watching 1 oz episode y...\n",
              "96  one reviewer mentioned watching 1 oz episode y...\n",
              "97  one reviewer mentioned watching 1 oz episode y...\n",
              "98  one reviewer mentioned watching 1 oz episode y...\n",
              "99  one reviewer mentioned watching 1 oz episode y...\n",
              "\n",
              "[100 rows x 1 columns]"
            ],
            "text/html": [
              "\n",
              "\n",
              "  <div id=\"df-d8339395-27a4-4e4e-a129-15a95daa6e97\">\n",
              "    <div class=\"colab-df-container\">\n",
              "      <div>\n",
              "<style scoped>\n",
              "    .dataframe tbody tr th:only-of-type {\n",
              "        vertical-align: middle;\n",
              "    }\n",
              "\n",
              "    .dataframe tbody tr th {\n",
              "        vertical-align: top;\n",
              "    }\n",
              "\n",
              "    .dataframe thead th {\n",
              "        text-align: right;\n",
              "    }\n",
              "</style>\n",
              "<table border=\"1\" class=\"dataframe\">\n",
              "  <thead>\n",
              "    <tr style=\"text-align: right;\">\n",
              "      <th></th>\n",
              "      <th>review</th>\n",
              "    </tr>\n",
              "  </thead>\n",
              "  <tbody>\n",
              "    <tr>\n",
              "      <th>0</th>\n",
              "      <td>one reviewer mentioned watching 1 oz episode y...</td>\n",
              "    </tr>\n",
              "    <tr>\n",
              "      <th>1</th>\n",
              "      <td>one reviewer mentioned watching 1 oz episode y...</td>\n",
              "    </tr>\n",
              "    <tr>\n",
              "      <th>2</th>\n",
              "      <td>one reviewer mentioned watching 1 oz episode y...</td>\n",
              "    </tr>\n",
              "    <tr>\n",
              "      <th>3</th>\n",
              "      <td>one reviewer mentioned watching 1 oz episode y...</td>\n",
              "    </tr>\n",
              "    <tr>\n",
              "      <th>4</th>\n",
              "      <td>one reviewer mentioned watching 1 oz episode y...</td>\n",
              "    </tr>\n",
              "    <tr>\n",
              "      <th>...</th>\n",
              "      <td>...</td>\n",
              "    </tr>\n",
              "    <tr>\n",
              "      <th>95</th>\n",
              "      <td>one reviewer mentioned watching 1 oz episode y...</td>\n",
              "    </tr>\n",
              "    <tr>\n",
              "      <th>96</th>\n",
              "      <td>one reviewer mentioned watching 1 oz episode y...</td>\n",
              "    </tr>\n",
              "    <tr>\n",
              "      <th>97</th>\n",
              "      <td>one reviewer mentioned watching 1 oz episode y...</td>\n",
              "    </tr>\n",
              "    <tr>\n",
              "      <th>98</th>\n",
              "      <td>one reviewer mentioned watching 1 oz episode y...</td>\n",
              "    </tr>\n",
              "    <tr>\n",
              "      <th>99</th>\n",
              "      <td>one reviewer mentioned watching 1 oz episode y...</td>\n",
              "    </tr>\n",
              "  </tbody>\n",
              "</table>\n",
              "<p>100 rows × 1 columns</p>\n",
              "</div>\n",
              "      <button class=\"colab-df-convert\" onclick=\"convertToInteractive('df-d8339395-27a4-4e4e-a129-15a95daa6e97')\"\n",
              "              title=\"Convert this dataframe to an interactive table.\"\n",
              "              style=\"display:none;\">\n",
              "\n",
              "  <svg xmlns=\"http://www.w3.org/2000/svg\" height=\"24px\"viewBox=\"0 0 24 24\"\n",
              "       width=\"24px\">\n",
              "    <path d=\"M0 0h24v24H0V0z\" fill=\"none\"/>\n",
              "    <path d=\"M18.56 5.44l.94 2.06.94-2.06 2.06-.94-2.06-.94-.94-2.06-.94 2.06-2.06.94zm-11 1L8.5 8.5l.94-2.06 2.06-.94-2.06-.94L8.5 2.5l-.94 2.06-2.06.94zm10 10l.94 2.06.94-2.06 2.06-.94-2.06-.94-.94-2.06-.94 2.06-2.06.94z\"/><path d=\"M17.41 7.96l-1.37-1.37c-.4-.4-.92-.59-1.43-.59-.52 0-1.04.2-1.43.59L10.3 9.45l-7.72 7.72c-.78.78-.78 2.05 0 2.83L4 21.41c.39.39.9.59 1.41.59.51 0 1.02-.2 1.41-.59l7.78-7.78 2.81-2.81c.8-.78.8-2.07 0-2.86zM5.41 20L4 18.59l7.72-7.72 1.47 1.35L5.41 20z\"/>\n",
              "  </svg>\n",
              "      </button>\n",
              "\n",
              "\n",
              "\n",
              "    <div id=\"df-3fd90b50-7b14-468e-bf20-abdeda44c5ac\">\n",
              "      <button class=\"colab-df-quickchart\" onclick=\"quickchart('df-3fd90b50-7b14-468e-bf20-abdeda44c5ac')\"\n",
              "              title=\"Suggest charts.\"\n",
              "              style=\"display:none;\">\n",
              "\n",
              "<svg xmlns=\"http://www.w3.org/2000/svg\" height=\"24px\"viewBox=\"0 0 24 24\"\n",
              "     width=\"24px\">\n",
              "    <g>\n",
              "        <path d=\"M19 3H5c-1.1 0-2 .9-2 2v14c0 1.1.9 2 2 2h14c1.1 0 2-.9 2-2V5c0-1.1-.9-2-2-2zM9 17H7v-7h2v7zm4 0h-2V7h2v10zm4 0h-2v-4h2v4z\"/>\n",
              "    </g>\n",
              "</svg>\n",
              "      </button>\n",
              "    </div>\n",
              "\n",
              "<style>\n",
              "  .colab-df-quickchart {\n",
              "    background-color: #E8F0FE;\n",
              "    border: none;\n",
              "    border-radius: 50%;\n",
              "    cursor: pointer;\n",
              "    display: none;\n",
              "    fill: #1967D2;\n",
              "    height: 32px;\n",
              "    padding: 0 0 0 0;\n",
              "    width: 32px;\n",
              "  }\n",
              "\n",
              "  .colab-df-quickchart:hover {\n",
              "    background-color: #E2EBFA;\n",
              "    box-shadow: 0px 1px 2px rgba(60, 64, 67, 0.3), 0px 1px 3px 1px rgba(60, 64, 67, 0.15);\n",
              "    fill: #174EA6;\n",
              "  }\n",
              "\n",
              "  [theme=dark] .colab-df-quickchart {\n",
              "    background-color: #3B4455;\n",
              "    fill: #D2E3FC;\n",
              "  }\n",
              "\n",
              "  [theme=dark] .colab-df-quickchart:hover {\n",
              "    background-color: #434B5C;\n",
              "    box-shadow: 0px 1px 3px 1px rgba(0, 0, 0, 0.15);\n",
              "    filter: drop-shadow(0px 1px 2px rgba(0, 0, 0, 0.3));\n",
              "    fill: #FFFFFF;\n",
              "  }\n",
              "</style>\n",
              "\n",
              "    <script>\n",
              "      async function quickchart(key) {\n",
              "        const containerElement = document.querySelector('#' + key);\n",
              "        const charts = await google.colab.kernel.invokeFunction(\n",
              "            'suggestCharts', [key], {});\n",
              "      }\n",
              "    </script>\n",
              "\n",
              "      <script>\n",
              "\n",
              "function displayQuickchartButton(domScope) {\n",
              "  let quickchartButtonEl =\n",
              "    domScope.querySelector('#df-3fd90b50-7b14-468e-bf20-abdeda44c5ac button.colab-df-quickchart');\n",
              "  quickchartButtonEl.style.display =\n",
              "    google.colab.kernel.accessAllowed ? 'block' : 'none';\n",
              "}\n",
              "\n",
              "        displayQuickchartButton(document);\n",
              "      </script>\n",
              "      <style>\n",
              "    .colab-df-container {\n",
              "      display:flex;\n",
              "      flex-wrap:wrap;\n",
              "      gap: 12px;\n",
              "    }\n",
              "\n",
              "    .colab-df-convert {\n",
              "      background-color: #E8F0FE;\n",
              "      border: none;\n",
              "      border-radius: 50%;\n",
              "      cursor: pointer;\n",
              "      display: none;\n",
              "      fill: #1967D2;\n",
              "      height: 32px;\n",
              "      padding: 0 0 0 0;\n",
              "      width: 32px;\n",
              "    }\n",
              "\n",
              "    .colab-df-convert:hover {\n",
              "      background-color: #E2EBFA;\n",
              "      box-shadow: 0px 1px 2px rgba(60, 64, 67, 0.3), 0px 1px 3px 1px rgba(60, 64, 67, 0.15);\n",
              "      fill: #174EA6;\n",
              "    }\n",
              "\n",
              "    [theme=dark] .colab-df-convert {\n",
              "      background-color: #3B4455;\n",
              "      fill: #D2E3FC;\n",
              "    }\n",
              "\n",
              "    [theme=dark] .colab-df-convert:hover {\n",
              "      background-color: #434B5C;\n",
              "      box-shadow: 0px 1px 3px 1px rgba(0, 0, 0, 0.15);\n",
              "      filter: drop-shadow(0px 1px 2px rgba(0, 0, 0, 0.3));\n",
              "      fill: #FFFFFF;\n",
              "    }\n",
              "  </style>\n",
              "\n",
              "      <script>\n",
              "        const buttonEl =\n",
              "          document.querySelector('#df-d8339395-27a4-4e4e-a129-15a95daa6e97 button.colab-df-convert');\n",
              "        buttonEl.style.display =\n",
              "          google.colab.kernel.accessAllowed ? 'block' : 'none';\n",
              "\n",
              "        async function convertToInteractive(key) {\n",
              "          const element = document.querySelector('#df-d8339395-27a4-4e4e-a129-15a95daa6e97');\n",
              "          const dataTable =\n",
              "            await google.colab.kernel.invokeFunction('convertToInteractive',\n",
              "                                                     [key], {});\n",
              "          if (!dataTable) return;\n",
              "\n",
              "          const docLinkHtml = 'Like what you see? Visit the ' +\n",
              "            '<a target=\"_blank\" href=https://colab.research.google.com/notebooks/data_table.ipynb>data table notebook</a>'\n",
              "            + ' to learn more about interactive tables.';\n",
              "          element.innerHTML = '';\n",
              "          dataTable['output_type'] = 'display_data';\n",
              "          await google.colab.output.renderOutput(dataTable, element);\n",
              "          const docLink = document.createElement('div');\n",
              "          docLink.innerHTML = docLinkHtml;\n",
              "          element.appendChild(docLink);\n",
              "        }\n",
              "      </script>\n",
              "    </div>\n",
              "  </div>\n"
            ]
          },
          "metadata": {},
          "execution_count": 54
        }
      ]
    },
    {
      "cell_type": "code",
      "source": [
        "type(x)"
      ],
      "metadata": {
        "colab": {
          "base_uri": "https://localhost:8080/"
        },
        "id": "cVkfaZBCpsjy",
        "outputId": "1fca86d4-f625-458f-aa02-fa4dd855c511"
      },
      "execution_count": null,
      "outputs": [
        {
          "output_type": "execute_result",
          "data": {
            "text/plain": [
              "pandas.core.frame.DataFrame"
            ]
          },
          "metadata": {},
          "execution_count": 169
        }
      ]
    },
    {
      "cell_type": "code",
      "source": [
        "y"
      ],
      "metadata": {
        "colab": {
          "base_uri": "https://localhost:8080/"
        },
        "id": "Veh06CZVZw8k",
        "outputId": "333a7683-6790-479d-d5fd-d2e9bf2cd3c5"
      },
      "execution_count": null,
      "outputs": [
        {
          "output_type": "execute_result",
          "data": {
            "text/plain": [
              "0     positive\n",
              "1     positive\n",
              "2     positive\n",
              "3     negative\n",
              "4     positive\n",
              "        ...   \n",
              "95    positive\n",
              "96    negative\n",
              "97    negative\n",
              "98    negative\n",
              "99    positive\n",
              "Name: sentiment, Length: 100, dtype: object"
            ]
          },
          "metadata": {},
          "execution_count": 55
        }
      ]
    },
    {
      "cell_type": "code",
      "source": [
        "x.shape,y.shape"
      ],
      "metadata": {
        "colab": {
          "base_uri": "https://localhost:8080/"
        },
        "id": "Njn4D-04Yx91",
        "outputId": "b26b5cc4-3196-425f-dfbb-0d410cd665d0"
      },
      "execution_count": null,
      "outputs": [
        {
          "output_type": "execute_result",
          "data": {
            "text/plain": [
              "((100, 1), (100,))"
            ]
          },
          "metadata": {},
          "execution_count": 56
        }
      ]
    },
    {
      "cell_type": "code",
      "source": [
        "from sklearn.preprocessing import LabelEncoder\n",
        "lb=LabelEncoder()\n",
        "y_trf=lb.fit_transform(y)"
      ],
      "metadata": {
        "id": "NRKCjV7ZbMsX"
      },
      "execution_count": null,
      "outputs": []
    },
    {
      "cell_type": "code",
      "source": [
        "from sklearn.model_selection import train_test_split\n",
        "x_train, x_test, y_train, y_test=train_test_split (x, y, test_size =0.2,random_state =42)\n",
        "x_train.shape, x_test.shape"
      ],
      "metadata": {
        "colab": {
          "base_uri": "https://localhost:8080/"
        },
        "id": "L4ZC-iEWac-h",
        "outputId": "e5b24372-c592-4126-f500-5f58572eca0d"
      },
      "execution_count": null,
      "outputs": [
        {
          "output_type": "execute_result",
          "data": {
            "text/plain": [
              "((80, 1), (20, 1))"
            ]
          },
          "metadata": {},
          "execution_count": 60
        }
      ]
    },
    {
      "cell_type": "code",
      "source": [
        "type(x_train)"
      ],
      "metadata": {
        "colab": {
          "base_uri": "https://localhost:8080/"
        },
        "id": "Bn9ZNljUp_jg",
        "outputId": "8b0fde58-859c-42e1-e761-a26aaf4763cd"
      },
      "execution_count": null,
      "outputs": [
        {
          "output_type": "execute_result",
          "data": {
            "text/plain": [
              "pandas.core.series.Series"
            ]
          },
          "metadata": {},
          "execution_count": 170
        }
      ]
    },
    {
      "cell_type": "code",
      "source": [],
      "metadata": {
        "id": "-k6NsJ8xqK1j"
      },
      "execution_count": null,
      "outputs": []
    },
    {
      "cell_type": "code",
      "source": [
        "x_train_trf=cv.fit_transform(x_train['review'] ).toarray()"
      ],
      "metadata": {
        "id": "wFtWfLlAXCnn"
      },
      "execution_count": null,
      "outputs": []
    },
    {
      "cell_type": "code",
      "source": [
        "x_test_trf=cv.transform(x_test['review']).toarray()"
      ],
      "metadata": {
        "id": "ltNFkqZ_bwb4"
      },
      "execution_count": null,
      "outputs": []
    },
    {
      "cell_type": "code",
      "source": [
        "y_trf"
      ],
      "metadata": {
        "colab": {
          "base_uri": "https://localhost:8080/"
        },
        "id": "MdGYkjfyYTFQ",
        "outputId": "db3017c8-99fe-4f4b-a912-62d323520dfa"
      },
      "execution_count": null,
      "outputs": [
        {
          "output_type": "execute_result",
          "data": {
            "text/plain": [
              "array([1, 1, 1, 0, 1, 1, 1, 0, 0, 1, 0, 0, 0, 0, 1, 0, 1, 0, 1, 0, 1, 0,\n",
              "       1, 0, 0, 1, 1, 0, 0, 1, 1, 1, 0, 1, 0, 0, 0, 0, 1, 0, 0, 1, 0, 0,\n",
              "       1, 1, 0, 0, 1, 0, 1, 1, 1, 1, 0, 0, 0, 0, 1, 1, 0, 0, 1, 0, 0, 1,\n",
              "       0, 0, 0, 0, 0, 0, 1, 1, 0, 1, 1, 0, 0, 1, 1, 0, 0, 0, 0, 0, 0, 0,\n",
              "       0, 0, 1, 0, 1, 1, 0, 1, 0, 0, 0, 1])"
            ]
          },
          "metadata": {},
          "execution_count": 62
        }
      ]
    },
    {
      "cell_type": "code",
      "source": [
        "x_train_trf.shape, x_test_trf.shape"
      ],
      "metadata": {
        "colab": {
          "base_uri": "https://localhost:8080/"
        },
        "id": "qiTQO-F-Yrcf",
        "outputId": "7a56f13c-4a54-4fc2-a4f1-660455d42008"
      },
      "execution_count": null,
      "outputs": [
        {
          "output_type": "execute_result",
          "data": {
            "text/plain": [
              "((80, 4046), (20, 4046))"
            ]
          },
          "metadata": {},
          "execution_count": 83
        }
      ]
    },
    {
      "cell_type": "code",
      "source": [
        "x_test_trf"
      ],
      "metadata": {
        "colab": {
          "base_uri": "https://localhost:8080/"
        },
        "id": "xN5aMcoQcsTt",
        "outputId": "7813d2bc-64c2-4db0-b693-9bbb092195bf"
      },
      "execution_count": null,
      "outputs": [
        {
          "output_type": "execute_result",
          "data": {
            "text/plain": [
              "array([[1, 7, 1, ..., 0, 1, 1],\n",
              "       [1, 5, 1, ..., 0, 1, 1],\n",
              "       [1, 7, 1, ..., 0, 1, 1],\n",
              "       ...,\n",
              "       [1, 7, 1, ..., 0, 1, 1],\n",
              "       [0, 2, 0, ..., 0, 1, 0],\n",
              "       [1, 3, 0, ..., 0, 1, 0]])"
            ]
          },
          "metadata": {},
          "execution_count": 85
        }
      ]
    },
    {
      "cell_type": "code",
      "source": [
        "x_train_trf"
      ],
      "metadata": {
        "colab": {
          "base_uri": "https://localhost:8080/"
        },
        "id": "E77BV6IDdAOI",
        "outputId": "60622f9f-e7ba-4254-c229-3d848c9f6980"
      },
      "execution_count": null,
      "outputs": [
        {
          "output_type": "execute_result",
          "data": {
            "text/plain": [
              "array([[1, 5, 1, ..., 0, 1, 1],\n",
              "       [1, 7, 1, ..., 0, 1, 1],\n",
              "       [1, 3, 0, ..., 0, 1, 0],\n",
              "       ...,\n",
              "       [0, 2, 0, ..., 0, 1, 0],\n",
              "       [1, 8, 1, ..., 0, 1, 1],\n",
              "       [1, 5, 1, ..., 0, 1, 1]])"
            ]
          },
          "metadata": {},
          "execution_count": 86
        }
      ]
    },
    {
      "cell_type": "code",
      "source": [
        "from sklearn.naive_bayes import GaussianNB"
      ],
      "metadata": {
        "id": "2oIu07mfdHB3"
      },
      "execution_count": null,
      "outputs": []
    },
    {
      "cell_type": "code",
      "source": [
        "gnb=GaussianNB()\n",
        "gnb.fit(x_train_trf,y_train)\n",
        "from sklearn.metrics import accuracy_score, confusion_matrix, classification_report\n",
        "y_pred=gnb.predict(x_test_trf)\n",
        "print(classification_report(y_test,y_pred))"
      ],
      "metadata": {
        "colab": {
          "base_uri": "https://localhost:8080/"
        },
        "id": "5VUD7o-ZdeTB",
        "outputId": "76dfd170-c361-4401-a65d-34e09cf339ef"
      },
      "execution_count": null,
      "outputs": [
        {
          "output_type": "stream",
          "name": "stdout",
          "text": [
            "              precision    recall  f1-score   support\n",
            "\n",
            "    negative       0.29      0.67      0.40         6\n",
            "    positive       0.67      0.29      0.40        14\n",
            "\n",
            "    accuracy                           0.40        20\n",
            "   macro avg       0.48      0.48      0.40        20\n",
            "weighted avg       0.55      0.40      0.40        20\n",
            "\n"
          ]
        }
      ]
    },
    {
      "cell_type": "code",
      "source": [],
      "metadata": {
        "id": "4nrq8n_NgRyg"
      },
      "execution_count": null,
      "outputs": []
    },
    {
      "cell_type": "code",
      "source": [
        "accuracy_score (y_test, y_pred)"
      ],
      "metadata": {
        "colab": {
          "base_uri": "https://localhost:8080/"
        },
        "id": "fJElqN7neUtF",
        "outputId": "e83349c2-1a67-4234-d2e2-4d7c09f3dd99"
      },
      "execution_count": null,
      "outputs": [
        {
          "output_type": "execute_result",
          "data": {
            "text/plain": [
              "0.4"
            ]
          },
          "metadata": {},
          "execution_count": 89
        }
      ]
    },
    {
      "cell_type": "code",
      "source": [
        "from sklearn.ensemble import RandomForestClassifier\n",
        "rf= RandomForestClassifier()\n",
        "rf.fit(x_train_trf,y_train)\n",
        "y_pred_rf =rf.predict(x_test_trf)\n",
        "print(classification_report(y_pred, y_test))"
      ],
      "metadata": {
        "colab": {
          "base_uri": "https://localhost:8080/"
        },
        "id": "CgMcDdFTeaYo",
        "outputId": "d466b852-b393-41b8-caee-65417adbe1fc"
      },
      "execution_count": null,
      "outputs": [
        {
          "output_type": "stream",
          "name": "stdout",
          "text": [
            "              precision    recall  f1-score   support\n",
            "\n",
            "    negative       0.67      0.29      0.40        14\n",
            "    positive       0.29      0.67      0.40         6\n",
            "\n",
            "    accuracy                           0.40        20\n",
            "   macro avg       0.48      0.48      0.40        20\n",
            "weighted avg       0.55      0.40      0.40        20\n",
            "\n"
          ]
        }
      ]
    },
    {
      "cell_type": "code",
      "source": [
        "accuracy_score(y_test, y_pred)"
      ],
      "metadata": {
        "colab": {
          "base_uri": "https://localhost:8080/"
        },
        "id": "nQY_2gTofIvU",
        "outputId": "bf5950fc-e6b9-4340-9910-1bfc2cb03150"
      },
      "execution_count": null,
      "outputs": [
        {
          "output_type": "execute_result",
          "data": {
            "text/plain": [
              "0.4"
            ]
          },
          "metadata": {},
          "execution_count": 93
        }
      ]
    },
    {
      "cell_type": "code",
      "source": [
        "from sklearn.feature_extraction.text import CountVectorizer\n",
        "cv=CountVectorizer(ngram_range=(1, 4),max_features=1000)\n",
        "x_train_ngram=cv.fit_transform(x_train['review']).toarray()\n",
        "x_test_ngram=cv.transform(x_test['review']).toarray()\n",
        "x_train_ngram.shape,x_test_ngram.shape"
      ],
      "metadata": {
        "colab": {
          "base_uri": "https://localhost:8080/"
        },
        "id": "rzbbDgCkfchy",
        "outputId": "27f21395-f646-4252-b127-a091d2b6b6f1"
      },
      "execution_count": null,
      "outputs": [
        {
          "output_type": "execute_result",
          "data": {
            "text/plain": [
              "((80, 1000), (20, 1000))"
            ]
          },
          "metadata": {},
          "execution_count": 137
        }
      ]
    },
    {
      "cell_type": "code",
      "source": [
        "gnb=GaussianNB()\n",
        "gnb.fit(x_train_ngram,y_train)\n",
        "from sklearn.metrics import accuracy_score, confusion_matrix, classification_report\n",
        "y_pred=gnb.predict(x_test_ngram)\n",
        "print(classification_report(y_test,y_pred))"
      ],
      "metadata": {
        "colab": {
          "base_uri": "https://localhost:8080/"
        },
        "id": "y7XHt3oWgUMa",
        "outputId": "21bf6127-183a-4063-8817-5d0a1e6ca801"
      },
      "execution_count": null,
      "outputs": [
        {
          "output_type": "stream",
          "name": "stdout",
          "text": [
            "              precision    recall  f1-score   support\n",
            "\n",
            "    negative       0.36      0.67      0.47         6\n",
            "    positive       0.78      0.50      0.61        14\n",
            "\n",
            "    accuracy                           0.55        20\n",
            "   macro avg       0.57      0.58      0.54        20\n",
            "weighted avg       0.65      0.55      0.57        20\n",
            "\n"
          ]
        }
      ]
    },
    {
      "cell_type": "code",
      "source": [
        "from sklearn.ensemble import RandomForestClassifier\n",
        "rf= RandomForestClassifier()\n",
        "rf.fit(x_train_ngram,y_train)\n",
        "y_pred_rf =rf.predict(x_test_ngram)\n",
        "print(classification_report(y_pred, y_test))"
      ],
      "metadata": {
        "colab": {
          "base_uri": "https://localhost:8080/"
        },
        "id": "vMCr3Fv9gs90",
        "outputId": "aa664a4e-8615-4284-f501-e3ab16b757d8"
      },
      "execution_count": null,
      "outputs": [
        {
          "output_type": "stream",
          "name": "stdout",
          "text": [
            "              precision    recall  f1-score   support\n",
            "\n",
            "    negative       0.67      0.36      0.47        11\n",
            "    positive       0.50      0.78      0.61         9\n",
            "\n",
            "    accuracy                           0.55        20\n",
            "   macro avg       0.58      0.57      0.54        20\n",
            "weighted avg       0.59      0.55      0.53        20\n",
            "\n"
          ]
        }
      ]
    },
    {
      "cell_type": "code",
      "source": [
        "from sklearn.feature_extraction.text import TfidfVectorizer\n",
        "tfidf=TfidfVectorizer()\n",
        "x_train_tfidf=tfidf.fit_transform(x_train['review'] ).toarray()\n",
        "x_test_tfidf=tfidf.transform(x_test['review']).toarray()\n",
        "x_train_tfidf.shape,x_test_tfidf.shape"
      ],
      "metadata": {
        "colab": {
          "base_uri": "https://localhost:8080/"
        },
        "id": "9LyDLXOSh7hZ",
        "outputId": "b30b9798-8c21-4809-e458-65c1d9940728"
      },
      "execution_count": null,
      "outputs": [
        {
          "output_type": "execute_result",
          "data": {
            "text/plain": [
              "((80, 4046), (20, 4046))"
            ]
          },
          "metadata": {},
          "execution_count": 142
        }
      ]
    },
    {
      "cell_type": "code",
      "source": [
        "gnb=GaussianNB()\n",
        "gnb.fit(x_train_ngram,y_train)\n",
        "from sklearn.metrics import accuracy_score, confusion_matrix, classification_report\n",
        "y_pred=gnb.predict(x_test_ngram)\n",
        "print(classification_report(y_test,y_pred))"
      ],
      "metadata": {
        "colab": {
          "base_uri": "https://localhost:8080/"
        },
        "id": "Yy58acu8jJe1",
        "outputId": "af445f89-a78e-4465-cb7a-f455ab444c14"
      },
      "execution_count": null,
      "outputs": [
        {
          "output_type": "stream",
          "name": "stdout",
          "text": [
            "              precision    recall  f1-score   support\n",
            "\n",
            "    negative       0.36      0.67      0.47         6\n",
            "    positive       0.78      0.50      0.61        14\n",
            "\n",
            "    accuracy                           0.55        20\n",
            "   macro avg       0.57      0.58      0.54        20\n",
            "weighted avg       0.65      0.55      0.57        20\n",
            "\n"
          ]
        }
      ]
    },
    {
      "cell_type": "code",
      "source": [
        "from sklearn.ensemble import RandomForestClassifier\n",
        "rf= RandomForestClassifier()\n",
        "rf.fit(x_train_tfidf,y_train)\n",
        "y_pred_rf =rf.predict(x_test_tfidf)\n",
        "print(classification_report(y_pred, y_test))"
      ],
      "metadata": {
        "colab": {
          "base_uri": "https://localhost:8080/"
        },
        "id": "eYkfARBOjRZ0",
        "outputId": "762d95e6-19dc-4e21-a61f-d6616654a03b"
      },
      "execution_count": null,
      "outputs": [
        {
          "output_type": "stream",
          "name": "stdout",
          "text": [
            "              precision    recall  f1-score   support\n",
            "\n",
            "    negative       0.67      0.36      0.47        11\n",
            "    positive       0.50      0.78      0.61         9\n",
            "\n",
            "    accuracy                           0.55        20\n",
            "   macro avg       0.58      0.57      0.54        20\n",
            "weighted avg       0.59      0.55      0.53        20\n",
            "\n"
          ]
        }
      ]
    },
    {
      "cell_type": "code",
      "source": [
        "# Remove stopwords\n",
        "\n",
        "x_train = x_train['review'].apply(lambda x: [item for item in x.split() if item not in exclude]).apply(lambda x:\" \".join(x))\n",
        "# Remove stopwords\n",
        "\n",
        "x_test = x_test['review'].apply(lambda x: [item for item in x.split() if item not in exclude]).apply(lambda x:\" \".join(x))"
      ],
      "metadata": {
        "id": "j9WjjIe1oYKZ"
      },
      "execution_count": null,
      "outputs": []
    },
    {
      "cell_type": "code",
      "source": [
        "import spacy\n",
        "import en_core_web_sm\n",
        "nlp=en_core_web_sm.load()"
      ],
      "metadata": {
        "id": "l255_5I7j_QE"
      },
      "execution_count": null,
      "outputs": []
    },
    {
      "cell_type": "code",
      "source": [
        "doc=nlp(x_train.values[0])\n",
        "print(doc.vector)"
      ],
      "metadata": {
        "colab": {
          "base_uri": "https://localhost:8080/"
        },
        "id": "k7gcQOqdkNdw",
        "outputId": "59a78bbc-8763-4bbe-ca4f-25f1aa6f446d"
      },
      "execution_count": null,
      "outputs": [
        {
          "output_type": "stream",
          "name": "stdout",
          "text": [
            "[ 0.07217222 -0.57782704  0.07025167  0.06063929 -0.1153703  -0.20451395\n",
            "  0.21478641  0.39731357  0.12025504 -0.14655785 -0.06115146 -0.10670397\n",
            " -0.32234493 -0.34763616 -0.13925603  0.2520338  -0.11753788 -0.2609401\n",
            " -0.5010134  -0.16254278 -0.01205207  0.76387334 -0.4028545  -0.1448197\n",
            "  0.18356918 -0.16236573  0.32108378  0.64519465  0.25060198  0.05098742\n",
            "  0.03604021 -0.03893285 -0.23404165  0.02095921 -0.04151561 -0.28247327\n",
            "  0.25395715 -0.10151847  0.05350197 -0.17973115 -0.4320803   0.21251322\n",
            " -0.01917361  0.45898223  0.11539592 -0.01727335 -0.03023727  0.03593976\n",
            " -0.16010517  0.14942122 -0.59793115  0.1484455  -0.0295735  -0.5071319\n",
            " -0.3590359   0.1931176   0.4947928   0.08074047 -0.13621725 -0.13408679\n",
            " -0.2713799  -0.08450566 -0.08324053 -0.11814523 -0.0815265  -0.12674516\n",
            "  0.14067277  0.05053478  0.22336145 -0.13778041  0.69130087  0.25377434\n",
            "  0.48876524 -0.48659587  0.09447126 -0.19179477  0.04468407 -0.7203995\n",
            "  0.11872816 -0.6397578   0.01030423 -0.10963029 -0.3017154   0.187552\n",
            "  0.07479016  0.07158476  0.14903833 -0.19592394 -0.6802071   0.33415622\n",
            "  0.1899089  -0.05029894  0.7734641   0.77935106 -0.09774886  0.01694921]\n"
          ]
        }
      ]
    },
    {
      "cell_type": "code",
      "source": [
        "doc"
      ],
      "metadata": {
        "colab": {
          "base_uri": "https://localhost:8080/"
        },
        "id": "AoMLxIVutAS4",
        "outputId": "10753afc-7c1c-4c9d-9d32-f0f100177dac"
      },
      "execution_count": null,
      "outputs": [
        {
          "output_type": "execute_result",
          "data": {
            "text/plain": [
              "one reviewer mentioned watching 1 oz episode youll hooked right exactly happened mebr br first thing struck oz brutality unflinching scene violence set right word go trust show faint hearted timid show pull punch regard drug sex violence hardcore classic use wordbr br called oz nickname given oswald maximum security state penitentary focus mainly emerald city experimental section prison cell glass front face inwards privacy high agenda em city home manyaryans muslim gangsta latino christian italian irish moreso scuffle death stare dodgy dealing shady agreement never far awaybr br would say main appeal show due fact go show wouldnt dare forget pretty picture painted mainstream audience forget charm forget romanceoz doesnt mess around first episode ever saw struck nasty surreal couldnt say ready watched developed taste oz got accustomed high level graphic violence violence injustice crooked guard wholl sold nickel inmate wholl kill order get away well mannered middle class inmate turned prison bitch due lack street skill prison experience watching oz may become comfortable uncomfortable viewingthats get touch darker side one review mentioned watching 1 oz episode hooked right exactly happened br first thing struck oz brutally unflinching scene violence set right word go trust show faint hearted timid show pull punched regard drug sex violence hardware classic use word br called oz nickname given onward maximum security state penitentiary focused mainly emerald city experimental section prison cell glass front face inwards privacy high agenda em city home manyaryans muslin gangsta nation christian italian irish snuffle death stare podgy dealing shady agreement never far away br would say main appeal show due fact go show dare forget pretty picture painted mainstream audience forget charm forget romance mess around first episode ever saw struck nasty surrey say ready watched developed taste oz got accustomed high level graphic violence violence injustice crooked guard whole sold nickel inmate whole kill order get away well manner middle class inmate turned prison birch due lack street skill prison experience watching oz may become comfortable uncomfortable viewingthats get touch darker side wonderful little production br br filling technique assuming oldtimebbc fashion give comforting sometimes discomforting sense realism entire piece br br actor extremely well chosen michael sheen got polar voice pat truly see fearless editing guided reference williams diary entry well worth watching terrific written performed piece wasteful production one great master comedy life br br realism really come home little thing fantasy guard rather use traditional dream technique remains solid disappears play knowledge sens particularly scene concerning norton halliwell set particularly flat halliwells moral decorating every surface terribly well done thought wonderful way spend time hot summer weekend sitting air conditioned theater watching lighthearted comedy plot simplistic dialogue witty character liable even well bread suspected aerial killer may disappointed realize match point 2 risk addition thought proof wood allen still fully control style many u grown lover br id laughed one wood remedy year dare say decade give never impressed scarlet johnson managed tone sex image jumped right average spirited young woman br may crown jewel career whittier devil wear trade interesting sherman great comedy go see friend basically family little boy jake think combine closet parent fighting timber br movie slower soap opera suddenly jake decides become ratio kill zombiebr br ok first going make film must decide thrilled drama drama movie watchable parent diverting arguing like real life jake closet totally ruin film expected see boogeyman similar movie instead watched drama meaningless thrilled spot br 3 10 well playing parent descent dialogue shot jake ignore letter matter love time money usually stunning film watch mr matter offer u vivid portrait human relation movie seems telling u money power success people different situation encounter br br variation arthur schnitzlers play theme director transfer action present time new york different character meet connect one connected one way another next person one seems know previous point contact stylish film sophisticated luxurious look taken see people live world live habitat br thing one get soul picture different stage loneliness one inhabit big city exactly best place human relation find sincere fulfillment one discern case people encounter br acting good mr matter direction steve buscemi rosary dawson carl lane michael imperial adrian greater rest talented cast make character come alive br wish mr matter good luck await anxiously next work probably alliee favorite movie story helplessness sacrifice education noble cause preach boring never get old despite seen 15 time last 25 year paul lupus performance brings tear eye better davis one truly sympathetic role delight kiss grand say like dressed midge child make fun watch mother slow awakening happening world roof believable startling dozen thumb movie sure would like see resurrection dated seahunt series teach today would bring back kid excitement grew black white seahunt gunsmoke hero every weekyou vote comeback new sea hunter need change pace would work world water adventure way thank outlet like view many viewpoint many moviesso ole way believe give got anna saywould nice read plus point sea rhyme would 10 line would let submit leave doubt quite must go let show amazing fresh innovative idea first tired first 7 8 year brilliant thing dropped 1990 show really funny anymore continued decline complete waste time today br truly disgraceful far show fallen writing painfully bad performance almost bad mildly entertaining respite guesthosts show probably still air find hard believe creator handselected original cast also chose band back followed one recognize brilliance see fit replace mediocrity felt must give 2 star respect original cast made show huge success show awful believe still air encouraged positive comment film looking forward watching film bad mistake give seen 950 film truly one worst awful almost every way editing pacing storyline acting soundtrack film song lame country tune played le four time film look cheap nasty boring extreme rarely happy see end credit film br br thing prevents giving score harvey kettle far best performance least seems making bit effort one kettle obsessive like original gut wrenching laughter like movie young old love movie hell even mon liked br great camp phil alien one quickly film humour based around address everything rather actual punchlinesbr br first odd pretty funny movie progressed find joke address funny anymore br low budget film never problem pretty interesting character eventually lost interest br imagine film would appeal stoner currently partakingbr br something similar better try brother another planet saw movie 12 came recall caries scene big bird eating men dangling helplessly parachute right air horror horror br young kid going cheese b film saturday afternoon still tired formula monster type move usually included hero beautiful woman might daughter professor happy resolution monster died end care much romantic angle 12 year old predictable plot love unintentional humor br year later saw psychic came loved star janet sleigh bumped early film sat took notice point since screenwriter making story make scar possible wellworn formula rule big fan ball work many enjoyed movie postal maybe one ball apparently bought right use far cry long ago even game even finished br br people enjoyed killing mercy infiltration secret research law located tropical island warned far cry something mr ball scheme together along legion schmuck feeling lonely set mr ball invite three countryman play player go name til schneider bier half moellerbr br three name actually made self pretty big movie big tale go like jack career played til schneider yes career german hail bratwurst eating duke however find till acting movie pretty adam people complained really staying true whole career agenda saw career first person perspective dont really know looked like kicking br br however storyline film beyond demanded see evil mad scientist dr trigger played bier making geneticallymutatedsoldiers gas called performing topsecret research island reminds spoiled vancouver reason right palm tree instead got nice rich lumberjackwoods even gone far started cry mehehe cannot go anna stay true ball shenanigan go see movie disappointed delivers true ball experience meaning sucked br thing worth mentioning would imply ball good work area film nice boat fighting scene whole cromedalbino gas squad enters scene everything make laugh movie far cry week scheisse poor simpleton far anna take wife go ahead bow career get annoying sidekick make anna shoot first three minute screen cast played shakespeare br shakespeare lost br appreciate trying bring shakespeare mass ruin something goodby br scottish play favorite shakespeare know know certain rev bowler hence bowdlerization tried something similar victoria ear br word cannot improve perfection br write write least ten line text english composition never force keep going say movie saying go cut fantastic movie three prisoner become famous one actor george colonel fan roll bad another good thing movie soundtrack man constant sorrow recommend movie everybody greeting bart kind drawn exotic scene realize one amateurish unbelievable bit film give ever seen sort like high school film project hosanna marquette thinking stock character bizarre supposed midst town pretty hard get involved one lesson learned brilliant insight tilted quite ridiculous lot skin intrigue videotaped nonsensewhat sexual relationship nowhere heterosexual encounter absurd dance everybody playing stereotyped role give one pas like million mile bad wasted film money could spent starving child aid africa film simply made one bad film fails capture flavor terror 1963 film title diam nelson excellent always cast hold exception owen wilson bring right feel character luke major fault version strayed far shirley jackson story attempt grandiose lost thrill earlier film trade snazzier special effect say bad film enjoy friction terror older version much movie made one top 10 awful move horrible br br want continuous minute want fight one monster another chance character development busy running one sword fight another emotional attachment except big bad machine wanted destroy br br scene blatantly stolen move lot star war matrix br br example br ghost scene end stolen final scene old star war soda obey one made br br spider machine beginning exactly like attacked spider return king elijah wood victim film waiting hypnotic sting victim wrap hello br whole machine v human theme matrix terminatorbr br example waste time someone tell paris paris br br juvenile story line rushed juvenile conclusion movie could decide child movie adult movie want much either br br awful real disappointment say least save money remember limit first film watched cinema picture dark place nervous back 7475 dad took brother sister newby cinema newby berkshire england recall tiger lot snow film also appearance grizzly adam actor dan dagger think one tiger get shot dy anyone know find etc please let knowthe cinema turned fitness club big shame nearest cinema 20 mile away would love hear others seen film like awful film must real singer nominated golden globe taken story first famous female renaissance painter mangled beyond recognition complaint taken liberty fact story good would perfectly fine simply bizarre account true story artist would made far better film come dishwaterdull script suppose enough naked people actual version hurriedly tapped end summary artist life could saved couple hour favored rest film gravity success die hard sequel surprise really 1990s gut die hard move washed wrong guy wrong place wrong time concept cliffhanger die hard mountain time rescue sly stop mon shoot stallion career br cliffhanger one big nitpicker dream especially expert mountain climbing basejumping aviation facial expression acting skill full excuse dismiss film one overgrown pile june stallion even managed get outdated horse however forget nonsense actually movable undeniably entertaining rome delivers plenty thrill unintentionally plenty laughter br got love john lithgows sneer vileness tick every box band lady best permanently harassed capless turncoat agent red line traversed br may henry portrait aerial killer michael hooker noteworthy cringeworthy performance insists constantly shrieking painful disbelieve captor man never hurt anybody whilst surely really look like ralph waited frank character grinning girl plume death br mention must go former london burning actor craig fairbrass bit bad guy come copper whilst using human football yes help enjoy bit needed good kicking br forget better judgement care could never happen lower acting expectation turn volume enjoy looking fallen one wearing helicopter terrible misfortune view movie entirety br say save time money got worst movie time even called movie like movie fails aspect make good movie story interesting actor paperthin believable bad direction action sequence face almost funnyalmostbr br movie packed full happy loneliness respectable person could find amusing least little biter br movie supposed feared towards men woman utterly unattractive especially old wrinkled thing come towards end try appear sex weird horrible costume fail miserablybr br even ridiculous body still give laugh painful watch absolutely stunning movie 25 kill watch wont regret much fun rajnikanth carry movie shoulder although anything still liked music arrehman take time grow heard time really start liking first let get thing straight aime fan always matter fact used watch speed race time preschool b like several body hilarious c like gorilla move later br moving movie first come seems like going usual movie happy ff sudden boom aime come movie go wwwaaaaayyyyy downhill br animation bad cheap even worse remember speed race crissakes fact cheap one scene movie vividly remember bunch kiss run school kiss ff terrible dinosaur look worse gorilla addition transition live action animation unorganized dialogue voicesespecially english dub viewed horrid begging dad take tape v player thing kept surviving cracking joke comment like root joelmike mst3k pick season honestly way barely enjoy movie survive timber br neck planning show another fellow take pal mine halloween movie night stupid pretty painful watch unintentionally hilarious time giving movie 310 improvement 0510 originally going give br according trading scale 310 mean pretty much boring bad fun counting three unless find way make fun become fun counting 15 worst movie saw worldfest also received least amount applause afterwards think receiving recognition based amount known actor film great see bell movie minute parker much better actress part allowed rest acting hard judge movie ridiculous predictable main character totally sympathetic therefore bore watch real emotional depth story movie revolving actor get work feel original development cop feel like one many straighttovideo move saw back even good one standard br carpenter story show little singer carpenter complex life though fails giving accurate fact detail br scythia gibb portray fine election good actress play naive sort dumb carpenter think role needed stronger character someone stronger personality br louise fletcher role agnes carpenter terrific great job parent mother br great song could included soundtrack album unfortunately though movie top rating u several country cell exotic masterpiece dazzling trip vast mind aerial killer also one talented director conclusive evidence achieved human unless uninhibited imagination boldness work pushing aside thought fall formula clothes creating something truly magnificent best movie year later br give read numerous complaint film anywhere style substance poorly cast character bad acting negative criticize film miss point movie may landmark tradition future move hopefully follow cell opened door another world imagination slam door face tell director tarsus sigh dont want personally would welcome another movie tarsus would love see someone try challenge br heard talk going inside mind aerial killer yes agree gene bit overlooked full move trying depict make aerial tiller tick worked failed cell blaze trail given new twist physically transported mind presented nothing le fascinating journey mysterious subject matter ever studied br like movie bog u much scientific margin trying explain jenny lope actually get enter brain another instead lie laboratory table wrapped look like really long twizzlers taunted another entity cell want let see guess people dont like true like explanation move movie venture onto new ground must let desire simply take br noticed film dark showed reality maybe contrast bright visual inside brain another nonetheless set design simply astonishing surprised film took home scar cinematography best costume best director like least get nominated best picture br give noticed give kind repeating nothing else say stress enough fantastic thought cell walk movie open mind taken wonder eyepopping feast assured good time guess film little much people writing weird crazy much psychology imagination human mind right alley leaving theater heard one audience member say whoever made movie sure lot good drug want smoking br 4 film tried many thing stinging political satire hollywood blockbuster sappy romantic comedy family value promo list go failed miserable enough interest keep turning br although appreciate spirit behind war depressed see clumsy effort especially taken target reflect lack existence serious critique rather simply poor writing direction production particular film br critique made corporatization war poking fun way diminishes true atrocity happening reminds bit three king similarly trivializes genuine cause concern movie frustration everything seemed energetic totally prepared good time least thought id able stand wrong first weird looking like watching american funniest home video damn parent hated much stereotypical latin family need speak person responsible need talk little girl always hanging someone hated mention final scene transcend must say glorious bad full badness movie happy dancing horrible beautiful war movie hollywood gene done done many time clicked dialogue reached plot overthetop action sequence seem unavoidable conflict dealing largescale combat however war movie come along go grain brings truly original compelling story life silver screen civil water cold mountain starring judge law nice madman sense zellweger film br calling cold mountain war movie entirely accurate true enough film open quite literally quickanddirty battle sequence put glory director edward wick shame however cold mountain much civil war period people time story center around disgruntled confederate soldier inman played judge law becomes disgusted gruesome war homesick beautiful hamlet cold mountain north carolina equally beautiful southern belle left behind add monroe played nice madman first glance set appears formula romantic interest back home give audience enough sympathy root reluctant soldier tribulation battlefield indeed earlier segment film relatively impressive even somewhat contrived br cold mountain soon take drastic turn though intrepid hero inman turn deserter incidentally saving audience potentially confusing scenario wanting root confederate begin long odyssey homeward meanwhile back farm adam cultured way prove little use field soon transformed something wilderbeast coming adam rescue course toughasnails ruby theme played sense zellweger help add put farm back together perhaps importantly cope loneliness isolation war seems brought upon adair br within two setting vivid compelling time disturbing portrait cartoon south unfold character inman add interact surprisingly complex enhanced wonderful performance brandon lesson ruby deadbeat father ray winston unrepentant southern layman natalie potman deeply troubled isolated young mother greatly affected changed war northern aggression mostly worse dark persuading antiwar message accepted effective hunting score willingly beautiful shot virginia north carolina communicated audience much gruesome battle scene scarred land dramatized people war fought though weapon tactic war changed much past century hellish effect land lifelessly relevant br director anthony minghella manages maintain gloomy mood film atmosphere unfortunately emigrated rather tepid climax little justice wonderfully formed character love story inman add awkwardly tacked onto beginning end film though inherently distant abstracted even absurd nature relationship way fit dismal nature rest plot br make mistake cold mountain neither trait feelgood romance inspiring war drama unique vision era sure entertain also truly absorb audience life people torn apart war entirely desperate rid terrible repercussion altogether taut organically gripping edward dmytryks crossfire distinctive suspense thrilled unlikely message movie using look device cycle br bivouacked washington company soldier cope restlessness hanging bar three end stranger apartment robert ran drunk belligerent beat host sam levee death happens jewish police detective robert young investigate help robert mitchum assigned roan outfit suspicion fall second three george cooper vanished ran say third muddy steve brodie insure silence young close br abutted superior script john paxson dmytryk draw precise performance three starring sob ran naturally prototypical angry white male hilt mitchum underplays characteristic alert nonchalance role however central young may never better gloria graham give first fullyfledged condition smartmouthed vulnerable tramp sad sack leech life paul belly taunt u small peripheral role make memorable br politically engaged dmytryk perhaps inevitably succumbs sermonizing pretty much confined young reminiscence irish grandfather died hand right century earlier thus incidentally stretching chronology limit least attempt render explanation however glio ran rate jew hillbilly br curiously crossfire survives even major change wrought upon novel based richard brook brick foxhole dealt gaybashing murder homosexuality 1947 still beyond pale news holocaust however begun emerge ash europe hollywood felt emboldened register protest antisemitism study always quaker prospect offending potential ticket buyer br change photophobia antisemitism work general specific dont fit smoothly victim chatting lonesome drunk young soldier inviting back home look odd even though especially since girlfriend tow raise question whether scenario retained inadvertently left discreet trepoff original engine generation roan murderous rage arch satyr one finest film ever made indian cinema directed great director going nihalani one successful hard hitting parallel cinema also turned commercial success even today arch satyr inspiration leading director indian br film tell realize scenario lumbar police unlike police city india lumbar police encompassed different system altogether going nihalani creates practical outlay real life approach lumbar police environment br amongst various police officer colleague film describes story velankar young hotblooded cop coming poor family father harsh police constable suffers father ideology incidence father atrocity mother hand approach towards immediate action crime inert craving job satisfaction film revolved plot wherein hand constant effort crime trampled seniorsthis lead frustration cannot achieve desired jobsatisfaction resulting frustration anger expressed excessive violence demand room bar also turning alcoholic br spirit within still alive constantly fight system aware system retro police politician intently associated far end compromise towards ethical practice negative finally get suspended br direction master piece thoroughly hard core one best memorable scene break underwood canister ram sheath house arrest followed short conversation fantastic many scene film hairraising moment br practical approach script major punch alcoholism corruption political influence courage deception integral part lumbar police even today aspect dealt brilliantly br finally film belongs one man show om pure portraying velankar traveling emotion absolutely brilliantly first exposure templarios good one excited find title among offering anchor bay video brought u cult classic spider baby print quality excellent alone hide fact film deadly dull thrilling opening sequence villager exact terrible revenge temple set whole thing motion everything else movie slow ponderous ultimately fulfilling adding insult injury movie dubbed submitted promised video jacket one significant quote entire film pronounced halfway protagonist mania middleman tibia di girolamo physically nondescript middleaged man originally sterno southern italy introduced start film living online elegant sterile hotel italianspeaking canton switzerland last ten year conducting business gradually introduced pivotal yet apparently remarkable scene take place employee swiss bank normally count di girolamos cash tell 10000 dollar missing usual suitcase full tightly stacked banknote news quietly sicily threatens coaxing bank manager wanting close account meanwhile tell u spectator bluff bluff right end without fear caught appearing ridiculous say bluff halfway tell truth eventually done blushed halfway told truth accepted consequence life ultimately love exactly reason behind beginning tibia di girolamos trouble br br initially sympathetic character scowling taciturn curt man verge 50 man wont even reply kind chambermaid waitress say hello goodby becomes one point someone spectator care deeply one point online tibia decides feel concern appearing ridiculous first half film may described slow indeed reveal di girolamos day night hotel oddly disjointed deliberate pace revealing seemingly mundane irrelevant detail however scene may seemed unnecessary reveal essential masterfully constructed innovative film unfold eye existence tibia di girolamo man imagination identity life sympathetic character unexpectedly end loving feeling least thought would also conveyed elegantly edited sequence interesting use music one theme scottish band board canada especially stood br br never contrast way hollywood italy treat monster odds since release film le consequence dellamore limbalsamatore another interesting element way film made use protagonist insomnia unlike machine far explicit way al pacing film insomnia le consequence dellamore us condition symbol deeper emotional malaise jammed deep obscurity unconscious almost impossible pinpoint cause indeed one br br young sympathetic hotel witness sofa played bolivia magnate granddaughter legendary anna memory title best friend man seen 20 year unexpectedly provide tiny window onto life tibia eventually though tentatively first accepts look though never explicitly spent spectator know man like tibia accepting consequence love unimaginable consequence film without single scene sex violence film unfold time conceded nothing spectator expectation le consequence dellamore fine representative small quiet discreet renaissance taking place italian cinema since decline cinecittà second half world waiting italy produce il postinolike fare la vital è bellastyle film neglecting explore fine creation like le consequence dellamore limbalsamatore others loss world watched film really expecting much got pack 5 film pretty terrible way fiver could expect know right terrible movie stretching interesting point occasional camcorder view nice touch drummer like drummer damned annoying well actually problem boring assume attempt build tension whole lot nothing happens utterly tedious thumb fast forward button ready press movie gave go seriously lead singer band great looking co dont half mention beautiful hell lot thought looked bit like meercat even mentioned killer even donna go worth explaining anyway far concerned star london reason watch exception london actually quite funny want acting talent give certainly seen lot worse give also seen lot better best avoid unless bored watching paint dry bought film blockbuster 300 sounded interesting bit ranmaesque idea someone dragging around skeleton cut girl miniskirt back restricted viewing stick thought going sweet least sincere coming age story weird india edge 100 wrong br watched wonder got restricted stick since hardly foul language little violence closest thing unity honestly dont usually go around hoping girl nightgown see party see party lot movie matter wearing miniskirt sort even antireligious humor tame lame caricature insincere derivative original worst funny slightest would better listen ray stevens would jesus wear role television show would barely qualify pg rate blockbuster refuse let anyone age 17 rent pornographic little kid could go rent edited version required dream insist back red worse br war br way worry metre thing left could offend people idea suicide beginning anybody need see move honestly portray suicide one better one like virgin suicide teenager move rate r purely suicide aspect little chance turning story give writing pg movie main character eleven half twelve suicide one top three leading cause death teenager think number 2 chance ten affected br say movie though 210 plot death little child copper one investigate killing movie appears trouble daughter end aerial killer get caught find unit see terrible acting actor unbelievable bad actor including copper could go like much waste time dont watch movie give warned ever watched movie lost plot well even really one begin br begin aching tedious scene heroine sitting around house actually sense menace even foreboding created even apparently constant thunderstorm strangely never actually heard housegreat double gazing house apparently mile town yet several hour walk away third girl serf purpose plot except provide surprisingly quick gory murder tedium becomes unbearable even beginning suggests state 20 killing throughout area even though apparent killer never venture far house bizarre ritual salt pepper pretty much sum film inherent lack direction br add lead actress act least willing completely irrelevant rude shower scene video truly nasty way hope br given following simply banner mostly final surprisingly extended murder offer nothing curiosity value one classic taft murder dont worrying telegraph least ten minute br walk wood victim come rather steep upward slope obviously struggle halfway see figure top dressed black brandishing large scythe slide run like rest u course struggle top stand conveniently nice upright front murder weapon br really movie say okay series kind take route go week week david horse character help ride bit sickle wrong david morse one greatest character actor certainly coolest series created david kept great writer heaven br due lack love show many see going season series never know amount rubbish made beyond baffled let hope something good make past first series sitting pile dung husband wondered whether actually product experiment see whether computer program could produce movie listless formula u propaganda thrown face throughout film provesdisappointinglythat work human call conspiracy theorist quote like steal declaration independence protect seem like way justify action like invasion ran etc fact nicholas cage speak line like would never use declaration independence bargaining chip straight face made husband wonder whether entire cast took valgum shooting scene reasoning behind plot turn new clue truly ridiculous impossible follow also bonus side plot misogyny dr whateverhernamewas chimed involved never shutting clearly movie look felt need slap dr title character give gravity one point case character say dont ever shut camera pan looking portly hand like child truly grotesque benefit movie astonishing bad get laugh really scar thing majority people watching movie u seemed enjoy creep clichés move type substance plot went nowhere end movie felt like sucked watching production good however script acting movie quality casting poor good actor mixed crumbly actor good actor hold lift others br br movie worthy word say meet minimum requirement ten line james wood cuba goading jr play caricature move br br looking endless entertainment still recommend movie movie based book many splendor thing skin tackle issue race relation sign white topic come han personal experience eurasian growing china background beautiful long long setting give love story unique rather daring atmosphere timber br story stereotypical romance memorable song perhaps remembered movie beautiful jenny jones look part give wonderful oscar nominated performance doctor mixed breed advent communism mainland china william holder never looked better playing romantic lead journalist covering war torn region world acting top notch chemistry two lover provides genuine moment silver screen affection sure melt heart romantically inclined br cinematography really brings fifty long long especially hilltop overlooking harbor two lover spend intimate moment ending real tearjerker may consider sentimental romance pas enjoy classic hollywood love story shining example film seen one rage got one worst yet direction logic continuity change plotscript diploe made cry pain could anyone come something happy mary busy know b move sure w movie wwastebr br take example two dozen foi local law officer surround trailer house deep wagoner inside deep confused corp within second huge gun battle ensues killed straight corp blast away deep mary company blasting away corp fall like dominion deep mary drive around circle hit one single bulletpellet killed mary seems noticeddamn guy tough truly miracle since sixshooter held 300 bullet miracle heard good thing state grace came open mind thought god army okay thought maybe butcher improved matured filmmaker film began shake acting thought well maybe get better unfortunately never picture start introducing two elder mormon missionary seems audience get know grow care instead story degenerate highly improbable series unfortunate event highlighting latent disobedience missionary something undeniably exists rarely level butcher portray becomes almost laughablebr br butcher success movie successful alteration target audience unrealistically accurately portraying life mormon missionary butcher accomplished nothing entering predominantly mormon audience film way reflect reality mission nothing like butcher show served mormon mission fattest fact gang life california certainly contains much explicit language occasional mild vulgarity br conclusion assuming supposed touch audience inspire believe forgiveness available unbelievable mon entire mission gather see elder sent home mon girl standing right next cheese next time butcher try making movie someone identify movie struck home 29 remember father working factory figured worked hard pride never gave could american dream house kiss car call give noted however without degree something unlike father quit ninth grade keen sense greed laziness get anywhere br would like know anyone movie v made saw hour ago ant find anywhere id love show friend pseudo friend family relative see think remind upon time american would work sake feeling honor pride accomplished think feeling still heavy downward spiral many thing made overseas disclaimer give seen movie 56 time last 15 year saw musical week allowed judge movie without painted want musical however painted watched musical br br actually believe michael douglas worked quite well role along case think let dance scene one best part movie worthwhile addition compared musical dancer singing movie much superior musical well cast least 10 time bigger easier movie course door lighting dancing singing also much superior movie expected indeed delivered br br song common musical better done movie new one quite good one whole movie delivers musical opinion especially compared musical door one bad point movie obvious cut actor talking dubbed singer singing portion character dancing implacable end product enjoyable musical protocol plausible movie whose saving grace star soldier dawn along good cast supporting actor story revolves around dizzy cocktail witness becomes famous inadvertently saving life arab dignitary story go downhill halfway movie soldier charm save movie unless soldier dawn fan dont go way see film film could classified drama idea john vight mary steenburgen would trying ease c historically accurate jena hercules abraham moses got melted noah lot abraham nephew lot turn thousand year would born canaanite wandered earthreally scriptwriter thinking ignorance remember something noah animal lot canaanite stuff sunday school trying offend maximum number people planet possible christian jew muslin historian archaeologist geologist psychologist linguistic matter fact anyone get offended anyone even medium taste would winced one preston sturgis power glory unseen public nearly twenty thirty year late 1990s resurfaced even showed television meantime gained notoriety saline wall citizen lane book suggested german mankiewicz arson well screenplay lane based sturgis screenplay mentioned beginning thread film limb web site karl overstated case br six narrator take turn dealing life charles foster lane newsreel representing alton henry luck alone teacher memoir bernstein red leland susan alexander lane raymond butler different plant lane reflecting faith disappointment hatred man course also reveals failing telling version pane story method also lead frequent overlapping retelling incident br situation power glory yes like lane legendary business leader tom garter spence trace man rose bottom head successful railroad system country two narrator earner right hand man henry ralph morgan wife sarah padded restrict nearly three dimension view get time lane garter henry narrated talking bos friend respected loved wife like voice skeptically public see flaw henry br typical example although worked way tom becomes antilabor later year union troublemaker care slowed shenanigan henry describes toe confrontation union major walnut preoccupied detriment home life henry wife reminds tom used scab violence end strike apparently blowing union headquarters killing many people two view man one pure white one pure black br really knocking power glory implicating pane success film including arson well film aware story presented well enough hold one interest end thanks performance trace college moore wife sally tragedy worldly success pair fully brought homer br marry tom want well part give wife family benefit never america great business success come cost tom get deeply involved running railroad empire expands improves constantly take away home much loses touch sally also notice eve helen wilson younger woman becomes mistress sally learns unfaithful behavior destroys herb br similarly tom get full shock make martyr eye henry eve marries tom present son turn even son toe son tom jr philip trent discovery incestuous cuckolding cause tom shoot br film total success action jump time unconvincingly yet make business seem real note scene tom tell board director plan purchase small rival train line discus use debenture financing plan sturgis came wealthy background could bring type detail whole first rate film citizen lane perhaps interest movie lover attempt business realism social commentary depression america average surprisingly tame full gallop mean still quite bad normal standard redeemed solid build nice touch neat time twist issue vision clairvoyancebr br genius wellknown weakness full gear canal dialogue wooden acting illogical plot point final go much long denouement prof rather lame shall say limp affair br fulfils ironic handling gallop form amusing though yellow clue wherever looked br 3 10 limping tiller return chamber one classic kungfu move shaw produce back whose gene equivalent spaghetti western hollywood protagonist gordon lie counterpart western client eastward digital registered new print made fantastic film felt presented shaw scope like good old day br film simple story good versus evil told 3 act le sum narrative martial art film ear br act one set premise worker dyemill small village unhappy lot wage cut 20 oncoming march gangster much exploitation none martial art skilled take gangster bos first minor success getting lie impersonate highly skilled hamlin monk one best comedy sequence rouse got exposed pushed limit credibility impersonating one many time br act two show protagonist wanting get back mob however without real martial art embark journey hamlin temple try infiltrate learn martial art sly slapstick moment finally get accepted abbot impersonate disappointed teaching method kind like mr miyagis style rate kid instead painting fence get erect scaffolding around temple nothing keep good man unwittingly build strength endurance learns kungfu orthodox war br act three fight felt begin cheese sound effect obvious noncontact film given maximum impact treatment rather refreshing watching fight scene wide angle shot highlight clarity detail spurring partner use slowmotion showcase sound different angle may find speed fight slow pause move wo king style used adnausem hollywood lick sure dont make fight scene like used return chamber get repeat screening monday game nostalgic trip memory lane waiting soilers real life well move familiar story happens many young men put war zone gun rifle hand case young innocent never handling firing gun jimmy davis franco tone repeated thousand time century men like jimmy davis forced take arm country br jimmy first wanted kicked u army encouraged stay belted mouth good friend fred p willis spence trace ended front line france jimmy unit pinned german machine gun nest single handed put commission picking half dozen german soldier safety nearby church steel jimmy gunner last surviving german raised arm surrender artillery shell hit steel seriously wounding br recovering wound army hospital jimmy fell love u army volunteer nurse rose puffy gland george rose really love jimmy good friend happy go lucky fred despite obnoxious antic towards fred lost fighting western front rose thinking killed fell love later married jimmy fred unexpectedly showed french town jimmy fully recovered wound stationed thing got sticky rose already accepted jimmy proposal marriage herb br www jimmy marrying rose left fred still love bitter resentful young man almost accident fred ran jimmy street new york city discovered shock surprise completely changed meek nonviolent person knew sent war european western front snug sure ability shoot gun jimmy become top monster new york city underwood fred later found wife rose idea jimmy really involved jimmy telling work law abiding offensive insurance adjusterbr br jimmy life crime came full circle rose found secret life patted police prevent executing valentine day like massacre gang member dressed corp rival monster trial jimmy came sens admitted guilt willing face music three year sentence get life back together br br spoiled alert hearing rumor fellow convict rose best friend fred affair behind back jimmy broke prison ending fugitive law free circus work manger barker jimmy seeing rose well fred true like trial sudden change heart thought going back prison least another ten year added sentence much jimmy jimmy decided end letting police traced job heart bell lugosi appeared several low budget achilles monogram study 1940s corpse vanishes one better one br bell play mad scientist kidnap young bridge kill extract fluid body keep wife looking young reporter doctor stay night home discover responsible bridge death following morning report murder police mad scientist shot drop dead shortly afterwards br got almost everything movie scientist assistant consist old hunchback dwarf son thunderstorm spoke passage bell house bell wife find sleep better coffin rather bed movie br corpse vanishes worth look especially bell lugosi fan great fur br rating 3 star 5 cannot believe enjoyed much pathology story better par linking story surprise ending hooked clot familiar face keep asking seen forget running time listed new line tape aunt 103 minute according ver time limb space maggot house campfire special way like 8 33 percent nation nitwit still support w bush would well see movie show aftermath french revolution terror 1794 strikingly similar post 911 sociopolitical landscape maybe could stop worrying saving face take whipping deserve really shame politician ruin country voted denied right ever vote clearly shown sense character br really stand movie ambiguity character hopelessly doctrinaire robespierre haunted empty man simplistic seductive ideology help elucidate boundary safety totalitarianism execution murder selfdefense patriotism realistic limb test aggravate hopeless situation helped create sound like belligerent overprivileged retarded yale cheerleader know br br wojciech pszoniak blow slovenly deparidieu screen sympathetic robespierre plight comforting know shortly film end hell jaw shot sent guillotined someone already mentioned board difficult make face documentary requires tremendous skill pacing patience directorial distance plausible premise narrative flow really believable acting ak great acting br br case love machine start show faut hand minute mark 60 minute left watch viewer start realize taken downhill thereby br director gordon risen simply peaked soon fair risen problem started early explains extra began wanting real get funding settled cheaper way making film br premise people secret life posting worn webster perhaps interesting 199798 film made risen lot tricky stuff push host handed camera room grain black white guess elicit sense authenticity work film confusing forced ultimately brings believability actor pretty awful dialogue"
            ]
          },
          "metadata": {},
          "execution_count": 175
        }
      ]
    },
    {
      "cell_type": "code",
      "source": [
        "in_arr=[]\n",
        "for item in x_train.values:\n",
        "   in_arr.append(nlp(item).vector)\n",
        "import numpy as np\n",
        "in_arr=np.array(in_arr)\n",
        "in_arr.shape"
      ],
      "metadata": {
        "colab": {
          "base_uri": "https://localhost:8080/"
        },
        "id": "SmAYSjlckNs3",
        "outputId": "fccd7957-0ddb-4b5a-8216-1607298079e8"
      },
      "execution_count": null,
      "outputs": [
        {
          "output_type": "execute_result",
          "data": {
            "text/plain": [
              "(80, 96)"
            ]
          },
          "metadata": {},
          "execution_count": 174
        }
      ]
    },
    {
      "cell_type": "code",
      "source": [
        "test_arr=[]\n",
        "for item in x_test.values:\n",
        "   test_arr.append(nlp(item).vector)\n",
        "import numpy as np\n",
        "test_arr=np.array(test_arr)\n",
        "test_arr.shape"
      ],
      "metadata": {
        "colab": {
          "base_uri": "https://localhost:8080/"
        },
        "id": "kBXry9GJtPJJ",
        "outputId": "0b958b51-f097-4b5e-d68f-bfc3ee514462"
      },
      "execution_count": null,
      "outputs": [
        {
          "output_type": "execute_result",
          "data": {
            "text/plain": [
              "(20, 96)"
            ]
          },
          "metadata": {},
          "execution_count": 177
        }
      ]
    },
    {
      "cell_type": "code",
      "source": [
        "from sklearn.ensemble import RandomForestClassifier\n",
        "rf= RandomForestClassifier()\n",
        "rf.fit(in_arr,y_train)\n",
        "y_pred_rf =rf.predict(test_arr)\n",
        "print(classification_report(y_pred, y_test))"
      ],
      "metadata": {
        "colab": {
          "base_uri": "https://localhost:8080/"
        },
        "id": "INaY586htnoF",
        "outputId": "75aa4513-2215-4cc0-ea95-87806568f8b2"
      },
      "execution_count": null,
      "outputs": [
        {
          "output_type": "stream",
          "name": "stdout",
          "text": [
            "              precision    recall  f1-score   support\n",
            "\n",
            "    negative       0.67      0.36      0.47        11\n",
            "    positive       0.50      0.78      0.61         9\n",
            "\n",
            "    accuracy                           0.55        20\n",
            "   macro avg       0.58      0.57      0.54        20\n",
            "weighted avg       0.59      0.55      0.53        20\n",
            "\n"
          ]
        }
      ]
    },
    {
      "cell_type": "code",
      "source": [
        "gnb=GaussianNB()\n",
        "gnb.fit(in_arr,y_train)\n",
        "from sklearn.metrics import accuracy_score, confusion_matrix, classification_report\n",
        "y_pred=gnb.predict(test_arr)\n",
        "print(classification_report(y_test,y_pred))"
      ],
      "metadata": {
        "colab": {
          "base_uri": "https://localhost:8080/"
        },
        "id": "18qF2KhMtpd4",
        "outputId": "11e2d79f-2658-4a06-fb13-5c7fd23fd48d"
      },
      "execution_count": null,
      "outputs": [
        {
          "output_type": "stream",
          "name": "stdout",
          "text": [
            "              precision    recall  f1-score   support\n",
            "\n",
            "    negative       0.29      0.67      0.40         6\n",
            "    positive       0.67      0.29      0.40        14\n",
            "\n",
            "    accuracy                           0.40        20\n",
            "   macro avg       0.48      0.48      0.40        20\n",
            "weighted avg       0.55      0.40      0.40        20\n",
            "\n"
          ]
        }
      ]
    }
  ]
}